{
 "cells": [
  {
   "cell_type": "markdown",
   "id": "ceb62ded",
   "metadata": {},
   "source": [
    "# UDACITY Demo - Step Functions"
   ]
  },
  {
   "cell_type": "code",
   "execution_count": 2,
   "id": "4238a462",
   "metadata": {
    "tags": []
   },
   "outputs": [],
   "source": [
    "import boto3\n",
    "from sagemaker import get_execution_role\n",
    "\n",
    "client = boto3.client('stepfunctions')\n",
    "\n",
    "# Definitions are unweildly and also not valid python objects. Consider also using the Step interface\n",
    "# for the services you wish to invoke, or just constructing a Step Function through the UI \n",
    "# and pasting the definition that is automatically generated. \n",
    "\n",
    "# Copy-paste this after creating a dummy State Machine using AWS Console/UI\n",
    "definition = \"\"\"{\n",
    "  \"Comment\": \"A description of my state machine\",\n",
    "  \"StartAt\": \"Lambda Invoke (Always True)\",\n",
    "  \"States\": {\n",
    "    \"Lambda Invoke (Always True)\": {\n",
    "      \"Type\": \"Task\",\n",
    "      \"Resource\": \"arn:aws:states:::lambda:invoke\",\n",
    "      \"OutputPath\": \"$.Payload\",\n",
    "      \"Parameters\": {\n",
    "        \"Payload.$\": \"$\",\n",
    "        \"FunctionName\": \"arn:aws:lambda:us-east-1:774397897175:function:example123:$LATEST\"\n",
    "      },\n",
    "      \"Retry\": [\n",
    "        {\n",
    "          \"ErrorEquals\": [\n",
    "            \"Lambda.ServiceException\",\n",
    "            \"Lambda.AWSLambdaException\",\n",
    "            \"Lambda.SdkClientException\",\n",
    "            \"Lambda.TooManyRequestsException\"\n",
    "          ],\n",
    "          \"IntervalSeconds\": 2,\n",
    "          \"MaxAttempts\": 6,\n",
    "          \"BackoffRate\": 2\n",
    "        }\n",
    "      ],\n",
    "      \"Next\": \"Lambda Invoke (Always False)\"\n",
    "    },\n",
    "    \"Lambda Invoke (Always False)\": {\n",
    "      \"Type\": \"Task\",\n",
    "      \"Resource\": \"arn:aws:states:::lambda:invoke\",\n",
    "      \"OutputPath\": \"$.Payload\",\n",
    "      \"Parameters\": {\n",
    "        \"Payload.$\": \"$\",\n",
    "        \"FunctionName\": \"arn:aws:lambda:us-east-1:774397897175:function:function-demo123:$LATEST\"\n",
    "      },\n",
    "      \"Retry\": [\n",
    "        {\n",
    "          \"ErrorEquals\": [\n",
    "            \"Lambda.ServiceException\",\n",
    "            \"Lambda.AWSLambdaException\",\n",
    "            \"Lambda.SdkClientException\",\n",
    "            \"Lambda.TooManyRequestsException\"\n",
    "          ],\n",
    "          \"IntervalSeconds\": 2,\n",
    "          \"MaxAttempts\": 6,\n",
    "          \"BackoffRate\": 2\n",
    "        }\n",
    "      ],\n",
    "      \"End\": true\n",
    "    }\n",
    "  }\n",
    "}\n",
    "\"\"\""
   ]
  },
  {
   "cell_type": "code",
   "execution_count": 3,
   "id": "825bb38c",
   "metadata": {
    "tags": []
   },
   "outputs": [
    {
     "name": "stdout",
     "output_type": "stream",
     "text": [
      "{'stateMachineArn': 'arn:aws:states:us-east-1:774397897175:stateMachine:Boto3_MyStateMachine3', 'creationDate': datetime.datetime(2023, 1, 10, 12, 4, 5, 549000, tzinfo=tzlocal()), 'ResponseMetadata': {'RequestId': '6ffef7a3-c227-4655-890e-6494475f8516', 'HTTPStatusCode': 200, 'HTTPHeaders': {'x-amzn-requestid': '6ffef7a3-c227-4655-890e-6494475f8516', 'date': 'Tue, 10 Jan 2023 12:04:05 GMT', 'content-type': 'application/x-amz-json-1.0', 'content-length': '126'}, 'RetryAttempts': 0}}\n"
     ]
    }
   ],
   "source": [
    "# Your SageMaker execution role needs to have both StepFunctions permission and IAM permission. This\n",
    "# is seperate from the role passed in through 'roleArn' (You need IAM permissions specifically because\n",
    "# you are handling other roles.) The roleArn that's passed into the state machine needs to have permissions\n",
    "# to the services it's invoking. In this case, these are Lambda permissions. \n",
    "\n",
    "response = client.create_state_machine(\n",
    "    name='Boto3_MyStateMachine3', # Names need to be unique. \n",
    "    definition=definition,\n",
    "    # Step function role defined in IAM (having access to Invoke Lambda functions) - Create new role ---> using (IAM -> Create role -> Step Functions)\n",
    "    roleArn='arn:aws:iam::774397897175:role/Step-Functions-Execution-Role-Granted-Permissions', \n",
    "    type='STANDARD',\n",
    "    loggingConfiguration={\n",
    "        'level': 'OFF'\n",
    "    }\n",
    ")\n",
    "print(response)"
   ]
  },
  {
   "cell_type": "code",
   "execution_count": 5,
   "id": "e9d45764",
   "metadata": {
    "tags": []
   },
   "outputs": [
    {
     "name": "stdout",
     "output_type": "stream",
     "text": [
      "{'executionArn': 'arn:aws:states:us-east-1:774397897175:execution:Boto3_MyStateMachine3:execution-of-Boto3_MyStateMachine3', 'startDate': datetime.datetime(2023, 1, 10, 12, 4, 50, 264000, tzinfo=tzlocal()), 'ResponseMetadata': {'RequestId': '6b933dfa-cdf7-4ed1-aa07-a65fbd39624c', 'HTTPStatusCode': 200, 'HTTPHeaders': {'x-amzn-requestid': '6b933dfa-cdf7-4ed1-aa07-a65fbd39624c', 'date': 'Tue, 10 Jan 2023 12:04:50 GMT', 'content-type': 'application/x-amz-json-1.0', 'content-length': '152'}, 'RetryAttempts': 0}}\n"
     ]
    }
   ],
   "source": [
    "response = client.start_execution(\n",
    "    \n",
    "    # Use any step function arn with necessary permission\n",
    "    # Go to step functions -> state machines -> choose the name of your state machine (copy-paste state machineARN)\n",
    "    # stateMachineArn='arn:aws:states:us-east-1:774397897175:stateMachine:Boto3_MyStateMachine3', # You can find this through the Console or through the 'response' object. \n",
    "    \n",
    "    # directly taking the respective machine from previous 'response' (checkout previous cell output)\n",
    "    stateMachineArn = response['stateMachineArn'],\n",
    "    \n",
    "    name='execution-of-Boto3_MyStateMachine3', # Execution names need to be unique within state machines. \n",
    "    input='{}' # Input needs to be at least empty brackets. \n",
    ")\n",
    "print(response)"
   ]
  },
  {
   "cell_type": "markdown",
   "id": "f359f2bf-7783-45b3-bc5d-43ee7c43f2ea",
   "metadata": {},
   "source": [
    "**Conclusion:**<br>\n",
    "'Success' or 'Failed' execution status needs to be checked from the console. "
   ]
  }
 ],
 "metadata": {
  "instance_type": "ml.t3.medium",
  "kernelspec": {
   "display_name": "Python 3 (Data Science)",
   "language": "python",
   "name": "python3__SAGEMAKER_INTERNAL__arn:aws:sagemaker:us-east-1:081325390199:image/datascience-1.0"
  },
  "language_info": {
   "codemirror_mode": {
    "name": "ipython",
    "version": 3
   },
   "file_extension": ".py",
   "mimetype": "text/x-python",
   "name": "python",
   "nbconvert_exporter": "python",
   "pygments_lexer": "ipython3",
   "version": "3.7.10"
  }
 },
 "nbformat": 4,
 "nbformat_minor": 5
}
