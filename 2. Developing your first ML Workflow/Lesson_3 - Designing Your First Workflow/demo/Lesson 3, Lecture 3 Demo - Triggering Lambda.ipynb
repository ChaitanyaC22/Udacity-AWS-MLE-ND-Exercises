{
 "cells": [
  {
   "cell_type": "markdown",
   "id": "02d4826a",
   "metadata": {},
   "source": [
    "# UDACITY Demo - Triggering Lambda"
   ]
  },
  {
   "cell_type": "code",
   "execution_count": 3,
   "id": "a88bf9cc",
   "metadata": {
    "tags": []
   },
   "outputs": [],
   "source": [
    "import boto3\n",
    "from sagemaker import get_execution_role ## The SageMaker role executing your notebook needs to have Lambda permissions. \n",
    "import json\n",
    "\n",
    "client = boto3.client('lambda')\n",
    "\n",
    "payload = {'key': 'value'}\n",
    "\n",
    "# json.dumps turns a JSON-object-like python object into a string, and .encode('utf-8') encodes the \n",
    "# the string so that it can be properly passed to the client. \n",
    "\n",
    "payload_bytes = json.dumps(payload).encode('utf-8')   # Convert a 'json object' into byte array\n",
    "\n",
    "response = client.invoke(                   # Invocation via boto3 session\n",
    "    FunctionName='example123',\n",
    "    InvocationType='Event',   # 'Event' Invocation: Cloudwatch (Events -> Rules)\n",
    "    Payload=payload_bytes\n",
    ")"
   ]
  },
  {
   "cell_type": "code",
   "execution_count": 4,
   "id": "2505e6a0-18da-48a0-a97c-974f041b5517",
   "metadata": {
    "tags": []
   },
   "outputs": [
    {
     "name": "stdout",
     "output_type": "stream",
     "text": [
      "{'ResponseMetadata': {'RequestId': '570249ad-ac20-407b-a961-7f50c0ea95c7', 'HTTPStatusCode': 202, 'HTTPHeaders': {'date': 'Mon, 09 Jan 2023 12:05:48 GMT', 'content-length': '0', 'connection': 'keep-alive', 'x-amzn-requestid': '570249ad-ac20-407b-a961-7f50c0ea95c7', 'x-amzn-remapped-content-length': '0', 'x-amzn-trace-id': 'root=1-63bc031c-3a0c943f43fbc7884d3f1a0f;sampled=0'}, 'RetryAttempts': 0}, 'StatusCode': 202, 'Payload': <botocore.response.StreamingBody object at 0x7f57fab4f9d0>}\n"
     ]
    }
   ],
   "source": [
    "print(response)"
   ]
  },
  {
   "cell_type": "markdown",
   "id": "cabec904-de8b-4885-9e3f-ff6de78342e9",
   "metadata": {},
   "source": [
    "We see **200 (202) code** above, hence successful."
   ]
  },
  {
   "cell_type": "markdown",
   "id": "19d866ef-54eb-4bbe-b2c4-40048d054057",
   "metadata": {},
   "source": [
    "Go and check successful execution of 'example123' lambda function under <br>\n",
    "*Lambda functions -> example123 (function passed here) -> monitor*"
   ]
  }
 ],
 "metadata": {
  "instance_type": "ml.t3.medium",
  "kernelspec": {
   "display_name": "Python 3 (Data Science)",
   "language": "python",
   "name": "python3__SAGEMAKER_INTERNAL__arn:aws:sagemaker:us-east-1:081325390199:image/datascience-1.0"
  },
  "language_info": {
   "codemirror_mode": {
    "name": "ipython",
    "version": 3
   },
   "file_extension": ".py",
   "mimetype": "text/x-python",
   "name": "python",
   "nbconvert_exporter": "python",
   "pygments_lexer": "ipython3",
   "version": "3.7.10"
  }
 },
 "nbformat": 4,
 "nbformat_minor": 5
}
