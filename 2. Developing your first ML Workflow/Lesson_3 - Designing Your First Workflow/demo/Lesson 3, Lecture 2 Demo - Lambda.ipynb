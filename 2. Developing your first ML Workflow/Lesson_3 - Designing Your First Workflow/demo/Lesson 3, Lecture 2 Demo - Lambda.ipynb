{
 "cells": [
  {
   "cell_type": "markdown",
   "id": "689781d4",
   "metadata": {},
   "source": [
    "# UDACITY Demo - Lambda"
   ]
  },
  {
   "cell_type": "code",
   "execution_count": 2,
   "id": "2c4ffece",
   "metadata": {
    "tags": []
   },
   "outputs": [
    {
     "name": "stdout",
     "output_type": "stream",
     "text": [
      "Overwriting lambda_function.py\n"
     ]
    }
   ],
   "source": [
    "%%writefile lambda_function.py\n",
    "\n",
    "# This cell will write the function to your local machine. Note the name of the file and the name of the function. \n",
    "# Compare this to the 'Handler' parameter. \n",
    "\n",
    "import json\n",
    "\n",
    "def lambda_handler(event, context):\n",
    "    return {\n",
    "        'statusCode': 200,\n",
    "        'body': json.dumps('Hello from Lambda!')\n",
    "    }\n"
   ]
  },
  {
   "cell_type": "code",
   "execution_count": 3,
   "id": "72902858",
   "metadata": {
    "tags": []
   },
   "outputs": [],
   "source": [
    "import boto3\n",
    "from sagemaker import get_execution_role\n",
    "from zipfile import ZipFile\n",
    "\n",
    "# Your role will need full access to Lambda. The easiest way to add this is through the IAM console. \n",
    "\n",
    "role = get_execution_role()\n",
    "\n",
    "client = boto3.client('lambda')\n",
    "\n",
    "# Always zip the python 'lambda_function' into a zip file. (Even if you are referring to the content in S3 bucket)\n",
    "with ZipFile('code.zip', 'w') as f:     \n",
    "    f.write('lambda_function.py')\n",
    "    \n",
    "# If submitting as a ZipFile, you need to insert raw data. \n",
    "    \n",
    "with open('code.zip', 'rb') as f:            # Read the code as binary code (as AWS services can only comprehend binary code)\n",
    "    b_code = f.read()\n",
    "\n",
    "    \n",
    "# You will need to submit an 'execution role' to Lambda. The easiest way to add this is through the IAM console. \n",
    "# You'll need the full ARN (not just the name. )\n",
    "# Lambda function names also need to be unique within your AWS account. \n",
    "\n",
    "response = client.create_function(\n",
    "    FunctionName='botoLambdaFunction123',\n",
    "    Runtime='python3.9',\n",
    "    Handler='lambda_function.lambda_handler',    # 'lambda_handler' function within 'lambda_function' python code file\n",
    "    Code={\n",
    "        'ZipFile': b_code,                       # Binarized code zip file\n",
    "    },\n",
    "    Description='string',                       \n",
    "    Timeout=30,                                  # Time in seconds\n",
    "    MemorySize=1024,                             # MemorySize in bytes\n",
    "    Publish=True,\n",
    "    PackageType='Zip',                          # Zip package\n",
    "    \n",
    "    '''\n",
    "    NOTE: \n",
    "    1. Grant access to current Sagemaker execution role by adding polices\n",
    "    IAM -> Roles -> AWS Sagemaker execution Role name -> Attach policies (AWSLambda_FullAccess)\n",
    "    Note: In 'Trust relationships' under this policy you will only find 'sagemaker.amazonaws.com'\n",
    "\n",
    "    2. Create another LAMBDA execution role (as we need 'lambda.amazonaws.com' under Principal Service of an IAM Role)\n",
    "    Go to IAM -> Roles -> Create Role -> \n",
    "    Step (i) Select Trusted Entity (AWS Service -> Lambda) -> Next\n",
    "    Step (ii) Choose 'AWSLambda_FullAccess' -> Next\n",
    "    Step (iii) Add role name ('lambda-execution-role') -> Create role (Make sure to check 'lambda.amazonaws.com' under Principal Service)\n",
    "    \n",
    "    Go to IAM -> Roles -> Open this AWS Lambda role 'lambda-execution-role' -> Copy ARN\n",
    "    This AWS Lambda role created in (2) is used to create a lambda function using SDK\n",
    "    '''\n",
    "    \n",
    "    Role='arn:aws:iam::774397897175:role/lambda-execution-role' \n",
    "    \n",
    ")\n"
   ]
  }
 ],
 "metadata": {
  "instance_type": "ml.t3.medium",
  "kernelspec": {
   "display_name": "Python 3 (Data Science)",
   "language": "python",
   "name": "python3__SAGEMAKER_INTERNAL__arn:aws:sagemaker:us-east-1:081325390199:image/datascience-1.0"
  },
  "language_info": {
   "codemirror_mode": {
    "name": "ipython",
    "version": 3
   },
   "file_extension": ".py",
   "mimetype": "text/x-python",
   "name": "python",
   "nbconvert_exporter": "python",
   "pygments_lexer": "ipython3",
   "version": "3.7.10"
  }
 },
 "nbformat": 4,
 "nbformat_minor": 5
}
