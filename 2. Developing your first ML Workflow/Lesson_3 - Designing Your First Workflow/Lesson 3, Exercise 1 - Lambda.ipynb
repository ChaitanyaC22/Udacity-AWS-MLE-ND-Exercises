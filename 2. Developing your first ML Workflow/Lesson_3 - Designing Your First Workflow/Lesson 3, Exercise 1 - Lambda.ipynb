{
 "cells": [
  {
   "cell_type": "code",
   "execution_count": null,
   "id": "410a2715-1dc9-478c-bba2-03b716beaf31",
   "metadata": {},
   "outputs": [],
   "source": [
    "## Refer to the videos for in-depth- demo. Also, please check 'exercise-1-lambda.zip' in Lesson 2 folder"
   ]
  },
  {
   "cell_type": "markdown",
   "id": "9213d171",
   "metadata": {},
   "source": [
    "## Exercise Solution: Example Lambda Test Event"
   ]
  },
  {
   "cell_type": "code",
   "execution_count": 6,
   "id": "9efff689",
   "metadata": {
    "tags": []
   },
   "outputs": [
    {
     "data": {
      "text/plain": [
       "{'s3-dataset-uri': 's3://sagemaker-studio-774397897175-mcs3venir6c/musical-instruments-reviews/dataset_json_zip_file/reviews_Musical_Instruments_5.json.zip'}"
      ]
     },
     "execution_count": 6,
     "metadata": {},
     "output_type": "execute_result"
    }
   ],
   "source": [
    "# Use AWS console to create a lambda function\n",
    "# Add a S3FullAccess permission policy to this lambda IAM role\n",
    "# Add the below \"s3-dataset-uri-key\" to 'test' the function\n",
    "# Upload 'exercise-1-lambda.zip' to the 'code' part of lambda function (It should contain preprocess code file 'HelloBlazePreprocessLambda.py' and the following 'lambda_handler' in 'lambda_function.py' file\n",
    "# Change the runtime settings to at least 5 mins\n",
    "# Test and deploy the lambda function\n",
    "\n",
    "{\n",
    "  \"s3-dataset-uri-key\": \"s3://sagemaker-studio-774397897175-mcs3venir6c/musical-instruments-reviews/dataset_json_zip_file/reviews_Musical_Instruments_5.json.zip\"\n",
    "}"
   ]
  },
  {
   "cell_type": "markdown",
   "id": "600085e2",
   "metadata": {},
   "source": [
    "## Exercise Solution: Example Lambda Handler"
   ]
  },
  {
   "cell_type": "code",
   "execution_count": 7,
   "id": "010950e0",
   "metadata": {
    "tags": []
   },
   "outputs": [],
   "source": [
    "from HelloBlazePreprocessLambda import preprocess\n",
    "\n",
    "def lambda_handler(event, context):\n",
    "    preprocess(event['s3-dataset-uri-key'])\n",
    "    return {\n",
    "        'statusCode': 200,\n",
    "        'body': \"Good to go!\"\n",
    "    }"
   ]
  }
 ],
 "metadata": {
  "instance_type": "ml.t3.medium",
  "kernelspec": {
   "display_name": "Python 3 (Data Science)",
   "language": "python",
   "name": "python3__SAGEMAKER_INTERNAL__arn:aws:sagemaker:us-east-1:081325390199:image/datascience-1.0"
  },
  "language_info": {
   "codemirror_mode": {
    "name": "ipython",
    "version": 3
   },
   "file_extension": ".py",
   "mimetype": "text/x-python",
   "name": "python",
   "nbconvert_exporter": "python",
   "pygments_lexer": "ipython3",
   "version": "3.7.10"
  }
 },
 "nbformat": 4,
 "nbformat_minor": 5
}
