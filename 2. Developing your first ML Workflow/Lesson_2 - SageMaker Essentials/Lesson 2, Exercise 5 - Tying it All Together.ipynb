{
 "cells": [
  {
   "cell_type": "markdown",
   "metadata": {},
   "source": [
    "# UDACITY SageMaker Essentials: Tying it all Together\n",
    "\n",
    "## Using XGBoost in SageMaker\n",
    "\n",
    "\n",
    "To tie everything together, we'll be using Amazon's SageMaker service to construct a random tree model to predict the sentiment of a movie review. This is also a sentiment analysis problem but we won't be using BlazingText. Instead, we will be using the XGBoost package as it is provided to us by Amazon.\n",
    "\n",
    "## Instructions\n",
    "Once you this notebook is opened in SageMaker Studio, select \"Python3(Data Science)\" kernel with \"ml.g4dn.xlarge\" instance.\n",
    "\n",
    "Some template code has already been provided for you, and you will need to implement additional functionality to successfully complete this notebook. You will not need to modify the included code beyond what is requested. Sections that begin with '**TODO**' in the header indicate that you need to complete or implement some portion within them. Instructions will be provided for each section and the specifics of the implementation are marked in the code block with a `# TODO: ...` comment. Please be sure to read the instructions carefully!"
   ]
  },
  {
   "cell_type": "markdown",
   "metadata": {},
   "source": [
    "## Step 1: Downloading the data\n",
    "\n",
    "The dataset we are going to use is very popular among researchers in Natural Language Processing, usually referred to as the [IMDb dataset](http://ai.stanford.edu/~amaas/data/sentiment/). It consists of movie reviews from the website [imdb.com](http://www.imdb.com/), each labeled as either '**pos**itive', if the reviewer enjoyed the film, or '**neg**ative' otherwise.\n",
    "\n",
    "> Maas, Andrew L., et al. [Learning Word Vectors for Sentiment Analysis](http://ai.stanford.edu/~amaas/data/sentiment/). In _Proceedings of the 49th Annual Meeting of the Association for Computational Linguistics: Human Language Technologies_. Association for Computational Linguistics, 2011.\n",
    "\n",
    "We begin by using some Jupyter Notebook magic to download and extract the dataset."
   ]
  },
  {
   "cell_type": "code",
   "execution_count": 2,
   "metadata": {
    "scrolled": true,
    "tags": []
   },
   "outputs": [],
   "source": [
    "%mkdir ../data"
   ]
  },
  {
   "cell_type": "code",
   "execution_count": null,
   "metadata": {
    "scrolled": true
   },
   "outputs": [],
   "source": [
    "#not running this is it takes too much time\n",
    "#!wget -O ../data/aclImdb_v1.tar.gz https://ai.stanford.edu/~amaas/data/sentiment/aclImdb_v1.tar.gz"
   ]
  },
  {
   "cell_type": "code",
   "execution_count": 4,
   "metadata": {
    "scrolled": true,
    "tags": []
   },
   "outputs": [
    {
     "name": "stdout",
     "output_type": "stream",
     "text": [
      "^C\n"
     ]
    }
   ],
   "source": [
    "#not running this is it takes too much time\n",
    "#!tar -zxf ../data/aclImdb_v1.tar.gz -C ../data --no-same-owner"
   ]
  },
  {
   "cell_type": "markdown",
   "metadata": {},
   "source": [
    "## Step 2: Preparing the data\n",
    "\n",
    "The data we have downloaded is split into various files, each of which contains a single review. It will be much easier going forward if we combine these individual files into two large files, one for training and one for testing."
   ]
  },
  {
   "cell_type": "code",
   "execution_count": 5,
   "metadata": {
    "tags": []
   },
   "outputs": [],
   "source": [
    "import os\n",
    "import glob\n",
    "\n",
    "def read_imdb_data(data_dir='../data/aclImdb'):\n",
    "    data = {}\n",
    "    labels = {}\n",
    "    \n",
    "    for data_type in ['train', 'test']:\n",
    "        data[data_type] = {}\n",
    "        labels[data_type] = {}\n",
    "        \n",
    "        for sentiment in ['pos', 'neg']:\n",
    "            data[data_type][sentiment] = []\n",
    "            labels[data_type][sentiment] = []\n",
    "            \n",
    "            path = os.path.join(data_dir, data_type, sentiment, '*.txt')\n",
    "            files = glob.glob(path)\n",
    "            \n",
    "            for f in files:\n",
    "                with open(f) as review:\n",
    "                    data[data_type][sentiment].append(review.read())\n",
    "                    # Here we represent a positive review by '1' and a negative review by '0'\n",
    "                    labels[data_type][sentiment].append(1 if sentiment == 'pos' else 0)\n",
    "                    \n",
    "            assert len(data[data_type][sentiment]) == len(labels[data_type][sentiment]), \\\n",
    "                    \"{}/{} data size does not match labels size\".format(data_type, sentiment)\n",
    "                \n",
    "    return data, labels"
   ]
  },
  {
   "cell_type": "code",
   "execution_count": 50,
   "metadata": {
    "tags": []
   },
   "outputs": [
    {
     "name": "stdout",
     "output_type": "stream",
     "text": [
      "IMDB reviews: train = 12500 pos / 12500 neg, test = 12500 pos / 12500 neg\n"
     ]
    }
   ],
   "source": [
    "data, labels = read_imdb_data()\n",
    "print(\"IMDB reviews: train = {} pos / {} neg, test = {} pos / {} neg\".format(\n",
    "            len(data['train']['pos']), len(data['train']['neg']),\n",
    "            len(data['test']['pos']), len(data['test']['neg'])))"
   ]
  },
  {
   "cell_type": "code",
   "execution_count": 51,
   "metadata": {
    "tags": []
   },
   "outputs": [],
   "source": [
    "from sklearn.utils import shuffle\n",
    "\n",
    "def prepare_imdb_data(data, labels):\n",
    "    \"\"\"Prepare training and test sets from IMDb movie reviews.\"\"\"\n",
    "    \n",
    "    #Combine positive and negative reviews and labels\n",
    "    data_train = data['train']['pos'] + data['train']['neg']\n",
    "    data_test = data['test']['pos'] + data['test']['neg']\n",
    "    labels_train = labels['train']['pos'] + labels['train']['neg']\n",
    "    labels_test = labels['test']['pos'] + labels['test']['neg']\n",
    "    \n",
    "    #Shuffle reviews and corresponding labels within training and test sets\n",
    "    data_train, labels_train = shuffle(data_train, labels_train)\n",
    "    data_test, labels_test = shuffle(data_test, labels_test)\n",
    "    \n",
    "    # Return a unified training data, test data, training labels, test labets\n",
    "    return data_train, data_test, labels_train, labels_test"
   ]
  },
  {
   "cell_type": "code",
   "execution_count": 52,
   "metadata": {
    "tags": []
   },
   "outputs": [
    {
     "name": "stdout",
     "output_type": "stream",
     "text": [
      "IMDb reviews (combined): train = 25000, test = 25000\n"
     ]
    }
   ],
   "source": [
    "train_X, test_X, train_y, test_y = prepare_imdb_data(data, labels)\n",
    "print(\"IMDb reviews (combined): train = {}, test = {}\".format(len(train_X), len(test_X)))"
   ]
  },
  {
   "cell_type": "code",
   "execution_count": 53,
   "metadata": {
    "tags": []
   },
   "outputs": [
    {
     "data": {
      "text/plain": [
       "\"I was really surprised with this movie. Going in to the sneak preview, knowing nothing about the movie except for the one trailer I'd seen, I thought it was going to be a Dude Where's My Car kind of crap fest. I was expecting bad sex jokes and farting and a pathetic lead character who will get laid in the end because that's just how movies work. Instead I got a smart, surprisingly original movie about a decent, average guy who just never had sex.<br /><br />Yes, the film is chock full o' sex jokes and vulgarity and the occasional hey-look-a-nipple!, but it's done much in the spirit of Bad Santa rather than Sorority Boys. All the characters are people you probably know in real life, redeemable friends who are just trying to hook a brother up and live their lives.<br /><br />I went in thinking this movie was going to be total crap, and I was very surprised. Yea, it's pretty over the top (c'mon, it's a movie about a 40 year old virgin!), but it's very smartly done.<br /><br />In the end, you're really pulling for this guy to get laid, which says a lot about the movie because honestly, did you really care if Ashton Kutcher found his car or not?\""
      ]
     },
     "execution_count": 53,
     "metadata": {},
     "output_type": "execute_result"
    }
   ],
   "source": [
    "train_X[980]"
   ]
  },
  {
   "cell_type": "markdown",
   "metadata": {},
   "source": [
    "## Step 3: Processing the data\n",
    "\n",
    "Now that we have our training and testing datasets merged and ready to use, we need to start processing the raw data into something that will be useable by our machine learning algorithm. To begin with, we remove any html formatting that may appear in the reviews and perform some standard natural language processing in order to homogenize the data."
   ]
  },
  {
   "cell_type": "code",
   "execution_count": 54,
   "metadata": {
    "tags": []
   },
   "outputs": [
    {
     "name": "stderr",
     "output_type": "stream",
     "text": [
      "[nltk_data] Downloading package stopwords to /root/nltk_data...\n",
      "[nltk_data]   Package stopwords is already up-to-date!\n"
     ]
    }
   ],
   "source": [
    "import nltk\n",
    "nltk.download(\"stopwords\")\n",
    "from nltk.corpus import stopwords\n",
    "from nltk.stem.porter import *\n",
    "stemmer = PorterStemmer()"
   ]
  },
  {
   "cell_type": "code",
   "execution_count": 55,
   "metadata": {
    "tags": []
   },
   "outputs": [],
   "source": [
    "import re\n",
    "from bs4 import BeautifulSoup\n",
    "\n",
    "def review_to_words(review):\n",
    "    text = BeautifulSoup(review, \"html.parser\").get_text() # Remove HTML tags\n",
    "    text = re.sub(r\"[^a-zA-Z0-9]\", \" \", text.lower()) # Convert to lower case\n",
    "    words = text.split() # Split string into words\n",
    "    words = [w for w in words if w not in stopwords.words(\"english\")] # Remove stopwords\n",
    "    words = [PorterStemmer().stem(w) for w in words] # stem\n",
    "    \n",
    "    return words"
   ]
  },
  {
   "cell_type": "code",
   "execution_count": 56,
   "metadata": {
    "tags": []
   },
   "outputs": [],
   "source": [
    "import pickle\n",
    "\n",
    "cache_dir = os.path.join(\"../cache\", \"sentiment_analysis\")  # where to store cache files\n",
    "os.makedirs(cache_dir, exist_ok=True)  # ensure cache directory exists\n",
    "\n",
    "def preprocess_data(data_train, data_test, labels_train, labels_test,\n",
    "                    cache_dir=cache_dir, cache_file=\"preprocessed_data.pkl\"):\n",
    "    \"\"\"Convert each review to words; read from cache if available.\"\"\"\n",
    "\n",
    "    # If cache_file is not None, try to read from it first\n",
    "    cache_data = None\n",
    "    if cache_file is not None:\n",
    "        try:\n",
    "            with open(os.path.join(cache_dir, cache_file), \"rb\") as f:\n",
    "                cache_data = pickle.load(f)\n",
    "            print(\"Read preprocessed data from cache file:\", cache_file)\n",
    "        except:\n",
    "            pass  # unable to read from cache, but that's okay\n",
    "    \n",
    "    # If cache is missing, then do the heavy lifting\n",
    "    if cache_data is None:\n",
    "        # Preprocess training and test data to obtain words for each review\n",
    "        #words_train = list(map(review_to_words, data_train))\n",
    "        #words_test = list(map(review_to_words, data_test))\n",
    "        words_train = [review_to_words(review) for review in data_train]\n",
    "        words_test = [review_to_words(review) for review in data_test]\n",
    "        \n",
    "        # Write to cache file for future runs\n",
    "        if cache_file is not None:\n",
    "            cache_data = dict(words_train=words_train, words_test=words_test,\n",
    "                              labels_train=labels_train, labels_test=labels_test)\n",
    "            with open(os.path.join(cache_dir, cache_file), \"wb\") as f:\n",
    "                pickle.dump(cache_data, f)\n",
    "            print(\"Wrote preprocessed data to cache file:\", cache_file)\n",
    "    else:\n",
    "        # Unpack data loaded from cache file\n",
    "        words_train, words_test, labels_train, labels_test = (cache_data['words_train'],\n",
    "                cache_data['words_test'], cache_data['labels_train'], cache_data['labels_test'])\n",
    "    \n",
    "    return words_train, words_test, labels_train, labels_test"
   ]
  },
  {
   "cell_type": "code",
   "execution_count": 57,
   "metadata": {
    "tags": []
   },
   "outputs": [
    {
     "name": "stdout",
     "output_type": "stream",
     "text": [
      "Read preprocessed data from cache file: preprocessed_data.pkl\n"
     ]
    }
   ],
   "source": [
    "# Preprocess data\n",
    "train_X, test_X, train_y, test_y = preprocess_data(train_X, test_X, train_y, test_y)"
   ]
  },
  {
   "cell_type": "code",
   "execution_count": 59,
   "metadata": {
    "tags": []
   },
   "outputs": [
    {
     "data": {
      "text/plain": [
       "['quit',\n",
       " 'get',\n",
       " 'rate',\n",
       " 'amati',\n",
       " 'girl',\n",
       " 'think',\n",
       " 'realli',\n",
       " 'kind',\n",
       " 'give',\n",
       " '4',\n",
       " '10',\n",
       " 'could',\n",
       " 'otherwis',\n",
       " 'wonder',\n",
       " 'stori',\n",
       " 'actual',\n",
       " 'set',\n",
       " 'less',\n",
       " 'decent',\n",
       " 'actor',\n",
       " 'becam',\n",
       " 'total',\n",
       " 'farc',\n",
       " 'eye',\n",
       " 'mani',\n",
       " 'clich',\n",
       " 'flick',\n",
       " 'women',\n",
       " 'hair',\n",
       " 'aw',\n",
       " 'scene',\n",
       " 'unrealist',\n",
       " 'seem',\n",
       " 'fake',\n",
       " 'real',\n",
       " 'passion',\n",
       " 'movi',\n",
       " 'bunch',\n",
       " 'actor',\n",
       " 'act',\n",
       " 'limit',\n",
       " 'hurt',\n",
       " 'funni',\n",
       " 'enough',\n",
       " 'comedi',\n",
       " 'fake',\n",
       " 'sad',\n",
       " 'realli',\n",
       " 'touch',\n",
       " 'eye',\n",
       " 'good',\n",
       " 'watch',\n",
       " 'believ',\n",
       " 'someth',\n",
       " 'like',\n",
       " 'made',\n",
       " 'tv',\n",
       " 'set',\n",
       " 'live',\n",
       " 'room',\n",
       " 'switzerland',\n",
       " 'mayb',\n",
       " 'still',\n",
       " 'ok',\n",
       " 'got',\n",
       " 'lost',\n",
       " 'translat',\n",
       " 'know',\n",
       " 'definit',\n",
       " 'one',\n",
       " 'oddest',\n",
       " 'movi',\n",
       " 'ever',\n",
       " 'seen',\n",
       " 'certainli',\n",
       " 'good',\n",
       " 'way',\n",
       " 'sorri']"
      ]
     },
     "execution_count": 59,
     "metadata": {},
     "output_type": "execute_result"
    }
   ],
   "source": [
    "train_X[980]"
   ]
  },
  {
   "cell_type": "markdown",
   "metadata": {},
   "source": [
    "### Extract Bag-of-Words features\n",
    "\n",
    "For the model we will be implementing, rather than using the reviews directly, we are going to transform each review into a Bag-of-Words feature representation. Keep in mind that 'in the wild' we will only have access to the training set so our transformer can only use the training set to construct a representation."
   ]
  },
  {
   "cell_type": "code",
   "execution_count": 60,
   "metadata": {
    "tags": []
   },
   "outputs": [],
   "source": [
    "import numpy as np\n",
    "from sklearn.feature_extraction.text import CountVectorizer\n",
    "import joblib\n",
    "# joblib is an enhanced version of pickle that is more efficient for storing NumPy arrays\n",
    "\n",
    "def extract_BoW_features(words_train, words_test, vocabulary_size=5000,\n",
    "                         cache_dir=cache_dir, cache_file=\"bow_features.pkl\"):\n",
    "    \"\"\"Extract Bag-of-Words for a given set of documents, already preprocessed into words.\"\"\"\n",
    "    \n",
    "    # If cache_file is not None, try to read from it first\n",
    "    cache_data = None\n",
    "    if cache_file is not None:\n",
    "        try:\n",
    "            with open(os.path.join(cache_dir, cache_file), \"rb\") as f:\n",
    "                cache_data = joblib.load(f)\n",
    "            print(\"Read features from cache file:\", cache_file)\n",
    "        except:\n",
    "            pass  # unable to read from cache, but that's okay\n",
    "    \n",
    "    # If cache is missing, then do the heavy lifting\n",
    "    if cache_data is None:\n",
    "        # Fit a vectorizer to training documents and use it to transform them\n",
    "        # NOTE: Training documents have already been preprocessed and tokenized into words;\n",
    "        #       pass in dummy functions to skip those steps, e.g. preprocessor=lambda x: x\n",
    "        vectorizer = CountVectorizer(max_features=vocabulary_size,\n",
    "                preprocessor=lambda x: x, tokenizer=lambda x: x)  # already preprocessed\n",
    "        features_train = vectorizer.fit_transform(words_train).toarray()\n",
    "\n",
    "        # Apply the same vectorizer to transform the test documents (ignore unknown words)\n",
    "        features_test = vectorizer.transform(words_test).toarray()\n",
    "        \n",
    "        # NOTE: Remember to convert the features using .toarray() for a compact representation\n",
    "        \n",
    "        # Write to cache file for future runs (store vocabulary as well)\n",
    "        if cache_file is not None:\n",
    "            vocabulary = vectorizer.vocabulary_\n",
    "            cache_data = dict(features_train=features_train, features_test=features_test,\n",
    "                             vocabulary=vocabulary)\n",
    "            with open(os.path.join(cache_dir, cache_file), \"wb\") as f:\n",
    "                joblib.dump(cache_data, f)\n",
    "            print(\"Wrote features to cache file:\", cache_file)\n",
    "    else:\n",
    "        # Unpack data loaded from cache file\n",
    "        features_train, features_test, vocabulary = (cache_data['features_train'],\n",
    "                cache_data['features_test'], cache_data['vocabulary'])\n",
    "    \n",
    "    # Return both the extracted features as well as the vocabulary\n",
    "    return features_train, features_test, vocabulary"
   ]
  },
  {
   "cell_type": "code",
   "execution_count": 61,
   "metadata": {
    "tags": []
   },
   "outputs": [
    {
     "name": "stdout",
     "output_type": "stream",
     "text": [
      "Read features from cache file: bow_features.pkl\n"
     ]
    }
   ],
   "source": [
    "# Extract Bag of Words features for both training and test datasets\n",
    "train_X, test_X, vocabulary = extract_BoW_features(train_X, test_X)"
   ]
  },
  {
   "cell_type": "code",
   "execution_count": 62,
   "metadata": {
    "tags": []
   },
   "outputs": [
    {
     "data": {
      "text/plain": [
       "array([0, 0, 0, ..., 0, 0, 0])"
      ]
     },
     "execution_count": 62,
     "metadata": {},
     "output_type": "execute_result"
    }
   ],
   "source": [
    "train_X[980]"
   ]
  },
  {
   "cell_type": "markdown",
   "metadata": {},
   "source": [
    "## Step 4: Classification using XGBoost\n",
    "\n",
    "Now that we have created the feature representation of our training (and testing) data, it is time to start setting up and using the XGBoost classifier provided by SageMaker.\n",
    "\n",
    "### (TODO) Writing the dataset\n",
    "\n",
    "The XGBoost classifier that we will be using requires the dataset to be written to a file and stored using Amazon S3. To do this, we will start by splitting the training dataset into two parts, the data we will train the model with and a validation set. Then, we will write those datasets to a file and upload the files to S3. In addition, we will write the test set input to a file and upload the file to S3. This is so that we can use SageMakers Batch Transform functionality to test our model once we've fit it."
   ]
  },
  {
   "cell_type": "code",
   "execution_count": 63,
   "metadata": {
    "tags": []
   },
   "outputs": [],
   "source": [
    "import pandas as pd\n",
    "\n",
    "# TODO: Split the train_X and train_y arrays into the DataFrames val_X, train_X and val_y, train_y. \n",
    "# Make sure that val_X and val_y contain 10000 entires while train_X and train_y contain the remaining 15000 entries.\n",
    "\n",
    "val_X = pd.DataFrame(train_X[:10000])\n",
    "train_X = pd.DataFrame(train_X[10000:])\n",
    "\n",
    "val_y = pd.DataFrame(train_y[:10000])\n",
    "train_y = pd.DataFrame(train_y[10000:])"
   ]
  },
  {
   "cell_type": "markdown",
   "metadata": {},
   "source": [
    "The documentation for the XGBoost algorithm in SageMaker requires that the saved datasets should contain no headers or index and that for the training and validation data, the label should occur first for each sample.\n",
    "\n",
    "For more information about this and other algorithms, the SageMaker developer documentation can be found on __[Amazon's website.](https://docs.aws.amazon.com/sagemaker/latest/dg/)__"
   ]
  },
  {
   "cell_type": "code",
   "execution_count": 64,
   "metadata": {
    "tags": []
   },
   "outputs": [],
   "source": [
    "# First we make sure that the local directory in which we'd like to store the training and validation csv files exists.\n",
    "data_dir = 'data/xgboost'\n",
    "if not os.path.exists(data_dir):\n",
    "    os.makedirs(data_dir)"
   ]
  },
  {
   "cell_type": "code",
   "execution_count": 65,
   "metadata": {
    "tags": []
   },
   "outputs": [],
   "source": [
    "# Then, save the test data to test.csv in the data_dir directory. Note that we do not save the associated ground truth\n",
    "# labels, instead we will use them later to compare with our model output.\n",
    "\n",
    "pd.DataFrame(test_X).to_csv(os.path.join(data_dir, 'test.csv'), header=False, index=False)\n",
    "\n",
    "# TODO: Save the training and validation data to train.csv and validation.csv in the data_dir directory.\n",
    "# Make sure that the files you create include the ground truth and are in the correct format.\n",
    "pd.concat([val_y, val_X], axis=1).to_csv(os.path.join(data_dir, 'validation.csv'), header=False, index=False)\n",
    "pd.concat([train_y, train_X], axis=1).to_csv(os.path.join(data_dir, 'train.csv'), header=False, index=False)"
   ]
  },
  {
   "cell_type": "code",
   "execution_count": 66,
   "metadata": {
    "tags": []
   },
   "outputs": [
    {
     "data": {
      "text/plain": [
       "0        0\n",
       "1        0\n",
       "2        0\n",
       "3        0\n",
       "4        0\n",
       "        ..\n",
       "14995    0\n",
       "14996    0\n",
       "14997    0\n",
       "14998    0\n",
       "14999    0\n",
       "Name: 980, Length: 15000, dtype: int64"
      ]
     },
     "execution_count": 66,
     "metadata": {},
     "output_type": "execute_result"
    }
   ],
   "source": [
    "train_X[980]"
   ]
  },
  {
   "cell_type": "code",
   "execution_count": 48,
   "metadata": {
    "tags": []
   },
   "outputs": [],
   "source": [
    "# To save a bit of memory we can set text_X, train_X, val_X, train_y and val_y to None.\n",
    "\n",
    "#test_X = train_X = val_X = train_y = val_y = None"
   ]
  },
  {
   "cell_type": "markdown",
   "metadata": {},
   "source": [
    "### (TODO) Uploading Training / Validation files to S3\n",
    "\n",
    "Amazon's S3 service allows us to store files that can be access by both the built-in training models such as the XGBoost model we will be using as well as custom models such as the one we will see a little later.\n",
    "\n",
    "For this, and most other tasks we will be doing using SageMaker, there are two methods we could use. The first is to use the low level functionality of SageMaker which requires knowing each of the objects involved in the SageMaker environment. The second is to use the high level functionality in which certain choices have been made on the user's behalf. The low level approach benefits from allowing the user a great deal of flexibility while the high level approach makes development much quicker. For our purposes we will opt to use the high level approach although using the low-level approach is certainly an option.\n",
    "\n",
    "The method `upload_data()`, a member of the object representing our current SageMaker session, may be of use to you. What this method does is upload the data to the default bucket (which is created if it does not exist) into the path described by the key_prefix variable. To see this for yourself, once you have uploaded the data files, go to the S3 console and look to see where the files have been uploaded.\n",
    "\n",
    "For additional resources, see the __[SageMaker session.upload_data](https://sagemaker.readthedocs.io/en/latest/session.html#sagemaker.session.Session.upload_data)__ and in addition the __[SageMaker Developer Guide.](https://docs.aws.amazon.com/sagemaker/latest/dg/)__"
   ]
  },
  {
   "cell_type": "code",
   "execution_count": 68,
   "metadata": {
    "tags": []
   },
   "outputs": [],
   "source": [
    "import sagemaker\n",
    "\n",
    "session = sagemaker.Session() # Store the current SageMaker session\n",
    "\n",
    "# S3 prefix (which folder will we use)\n",
    "prefix = 'sentiment-xgboost2'\n",
    "\n",
    "# TODO: Upload the test.csv, train.csv and validation.csv files which are contained in data_dir to S3 using sess.upload_data().\n",
    "test_location = None\n",
    "val_location = None\n",
    "train_location = None\n",
    "\n",
    "test_location = session.upload_data(os.path.join(data_dir, 'test.csv'), key_prefix=prefix)\n",
    "val_location = session.upload_data(os.path.join(data_dir, 'validation.csv'), key_prefix=prefix)\n",
    "train_location = session.upload_data(os.path.join(data_dir, 'train.csv'), key_prefix=prefix)\n",
    "\n",
    "#CONFIRMED that files are there in sentiment-xgboost2 folder in s3 bucket"
   ]
  },
  {
   "cell_type": "markdown",
   "metadata": {},
   "source": [
    "### (TODO) Creating the XGBoost model\n",
    "\n",
    "Now that the data has been uploaded it is time to create the XGBoost model. To begin with, we need to do some setup. At this point it is worth discussing what a model is in SageMaker. It is easiest to think of a model of comprising three different objects in the SageMaker ecosystem, which interact with one another.\n",
    "\n",
    "- Model Artifacts\n",
    "- Training Code (Container)\n",
    "- Inference Code (Container)\n",
    "\n",
    "The Model Artifacts are what you might think of as the actual model itself. For example, if you were building a neural network, the model artifacts would be the weights of the various layers. In our case, for an XGBoost model, the artifacts are the actual trees that are created during training.\n",
    "\n",
    "The other two objects, the training code and the inference code are then used the manipulate the training artifacts. More precisely, the training code uses the training data that is provided and creates the model artifacts, while the inference code uses the model artifacts to make predictions on new data.\n",
    "\n",
    "The way that SageMaker runs the training and inference code is by making use of Docker containers. For now, think of a container as being a way of packaging code up so that dependencies aren't an issue."
   ]
  },
  {
   "cell_type": "code",
   "execution_count": 69,
   "metadata": {
    "tags": []
   },
   "outputs": [],
   "source": [
    "from sagemaker import get_execution_role\n",
    "\n",
    "# Our current execution role is require when creating the model as the training\n",
    "# and inference code will need to access the model artifacts.\n",
    "role = get_execution_role()"
   ]
  },
  {
   "cell_type": "code",
   "execution_count": 70,
   "metadata": {
    "tags": []
   },
   "outputs": [],
   "source": [
    "# We need to retrieve the location of the container which is provided by Amazon for using XGBoost.\n",
    "# As a matter of convenience, the training and inference code both use the same container.\n",
    "from sagemaker import image_uris\n",
    "container = image_uris.retrieve('xgboost', session.boto_region_name, 'latest')"
   ]
  },
  {
   "cell_type": "code",
   "execution_count": 71,
   "metadata": {
    "tags": []
   },
   "outputs": [],
   "source": [
    "# TODO: Create a SageMaker estimator using the container location determined in the previous cell.\n",
    "#       It is recommended that you use a single training instance of type ml.m4.xlarge. It is also\n",
    "#       recommended that you use 's3://{}/{}/output'.format(session.default_bucket(), prefix) as the\n",
    "#       output path.\n",
    "\n",
    "xgb = None\n",
    "\n",
    "\n",
    "# TODO: Set the XGBoost hyperparameters in the xgb object. Don't forget that in this case we have a binary\n",
    "#       label so we should be using the 'binary:logistic' objective.\n",
    "\n",
    "xgb = sagemaker.estimator.Estimator(container, # The location of the container we wish to use\n",
    "                                    role,                                    # What is our current IAM Role\n",
    "                                    instance_count=1,                  # How many compute instances\n",
    "                                    instance_type='ml.m4.xlarge',      # What kind of compute instances\n",
    "                                    output_path='s3://{}/{}/output'.format(session.default_bucket(), prefix),\n",
    "                                    sagemaker_session=session)\n",
    "\n",
    "\n",
    "# TODO: Set the XGBoost hyperparameters in the xgb object. Don't forget that in this case we have a binary\n",
    "#       label so we should be using the 'binary:logistic' objective.\n",
    "\n",
    "# Solution:\n",
    "xgb.set_hyperparameters(max_depth=5,\n",
    "                        eta=0.2,\n",
    "                        gamma=4,\n",
    "                        min_child_weight=6,\n",
    "                        subsample=0.8,\n",
    "                        silent=0,\n",
    "                        objective='binary:logistic',\n",
    "                        early_stopping_rounds=10,\n",
    "                        num_round=500)\n",
    "\n"
   ]
  },
  {
   "cell_type": "markdown",
   "metadata": {},
   "source": [
    "### Fit the XGBoost model\n",
    "\n",
    "Now that our model has been set up we simply need to attach the training and validation datasets and then ask SageMaker to set up the computation."
   ]
  },
  {
   "cell_type": "code",
   "execution_count": 72,
   "metadata": {
    "tags": []
   },
   "outputs": [],
   "source": [
    "s3_input_train = sagemaker.TrainingInput(s3_data=train_location, content_type='csv')\n",
    "s3_input_validation = sagemaker.TrainingInput(s3_data=val_location, content_type='csv')"
   ]
  },
  {
   "cell_type": "markdown",
   "metadata": {},
   "source": [
    "# MODEL FITTING\n",
    "\n"
   ]
  },
  {
   "cell_type": "code",
   "execution_count": 73,
   "metadata": {
    "tags": []
   },
   "outputs": [
    {
     "name": "stdout",
     "output_type": "stream",
     "text": [
      "2023-01-12 19:25:46 Starting - Starting the training job...ProfilerReport-1673551546: InProgress\n",
      "...\n",
      "2023-01-12 19:26:30 Starting - Preparing the instances for training......\n",
      "2023-01-12 19:27:30 Downloading - Downloading input data...\n",
      "2023-01-12 19:28:10 Training - Downloading the training image...\n",
      "2023-01-12 19:28:30 Training - Training image download completed. Training in progress..\u001b[34mArguments: train\u001b[0m\n",
      "\u001b[34m[2023-01-12:19:28:42:INFO] Running standalone xgboost training.\u001b[0m\n",
      "\u001b[34m[2023-01-12:19:28:42:INFO] File size need to be processed in the node: 238.47mb. Available memory size in the node: 8611.07mb\u001b[0m\n",
      "\u001b[34m[2023-01-12:19:28:42:INFO] Determined delimiter of CSV input is ','\u001b[0m\n",
      "\u001b[34m[19:28:42] S3DistributionType set as FullyReplicated\u001b[0m\n",
      "\u001b[34m[19:28:43] 15000x5000 matrix with 75000000 entries loaded from /opt/ml/input/data/train?format=csv&label_column=0&delimiter=,\u001b[0m\n",
      "\u001b[34m[2023-01-12:19:28:43:INFO] Determined delimiter of CSV input is ','\u001b[0m\n",
      "\u001b[34m[19:28:43] S3DistributionType set as FullyReplicated\u001b[0m\n",
      "\u001b[34m[19:28:45] 10000x5000 matrix with 50000000 entries loaded from /opt/ml/input/data/validation?format=csv&label_column=0&delimiter=,\u001b[0m\n",
      "\u001b[34m[19:28:48] src/tree/updater_prune.cc:74: tree pruning end, 1 roots, 40 extra nodes, 4 pruned nodes, max_depth=5\u001b[0m\n",
      "\u001b[34m[0]#011train-error:0.3014#011validation-error:0.3024\u001b[0m\n",
      "\u001b[34mMultiple eval metrics have been passed: 'validation-error' will be used for early stopping.\u001b[0m\n",
      "\u001b[34mWill train until validation-error hasn't improved in 10 rounds.\u001b[0m\n",
      "\u001b[34m[19:28:50] src/tree/updater_prune.cc:74: tree pruning end, 1 roots, 34 extra nodes, 8 pruned nodes, max_depth=5\u001b[0m\n",
      "\u001b[34m[1]#011train-error:0.2872#011validation-error:0.2812\u001b[0m\n",
      "\u001b[34m[19:28:52] src/tree/updater_prune.cc:74: tree pruning end, 1 roots, 40 extra nodes, 8 pruned nodes, max_depth=5\u001b[0m\n",
      "\u001b[34m[2]#011train-error:0.2804#011validation-error:0.2753\u001b[0m\n",
      "\u001b[34m[19:28:53] src/tree/updater_prune.cc:74: tree pruning end, 1 roots, 36 extra nodes, 4 pruned nodes, max_depth=5\u001b[0m\n",
      "\u001b[34m[3]#011train-error:0.269533#011validation-error:0.2696\u001b[0m\n",
      "\u001b[34m[19:28:54] src/tree/updater_prune.cc:74: tree pruning end, 1 roots, 28 extra nodes, 6 pruned nodes, max_depth=5\u001b[0m\n",
      "\u001b[34m[4]#011train-error:0.271867#011validation-error:0.2714\u001b[0m\n",
      "\u001b[34m[19:28:56] src/tree/updater_prune.cc:74: tree pruning end, 1 roots, 26 extra nodes, 12 pruned nodes, max_depth=5\u001b[0m\n",
      "\u001b[34m[5]#011train-error:0.256933#011validation-error:0.2544\u001b[0m\n",
      "\u001b[34m[19:28:57] src/tree/updater_prune.cc:74: tree pruning end, 1 roots, 38 extra nodes, 6 pruned nodes, max_depth=5\u001b[0m\n",
      "\u001b[34m[6]#011train-error:0.249067#011validation-error:0.2483\u001b[0m\n",
      "\u001b[34m[19:28:58] src/tree/updater_prune.cc:74: tree pruning end, 1 roots, 36 extra nodes, 10 pruned nodes, max_depth=5\u001b[0m\n",
      "\u001b[34m[7]#011train-error:0.238333#011validation-error:0.2407\u001b[0m\n",
      "\u001b[34m[19:29:00] src/tree/updater_prune.cc:74: tree pruning end, 1 roots, 40 extra nodes, 6 pruned nodes, max_depth=5\u001b[0m\n",
      "\u001b[34m[8]#011train-error:0.230267#011validation-error:0.236\u001b[0m\n",
      "\u001b[34m[19:29:01] src/tree/updater_prune.cc:74: tree pruning end, 1 roots, 24 extra nodes, 10 pruned nodes, max_depth=5\u001b[0m\n",
      "\u001b[34m[9]#011train-error:0.230733#011validation-error:0.2367\u001b[0m\n",
      "\u001b[34m[19:29:03] src/tree/updater_prune.cc:74: tree pruning end, 1 roots, 30 extra nodes, 0 pruned nodes, max_depth=5\u001b[0m\n",
      "\u001b[34m[10]#011train-error:0.226133#011validation-error:0.2342\u001b[0m\n",
      "\u001b[34m[19:29:05] src/tree/updater_prune.cc:74: tree pruning end, 1 roots, 32 extra nodes, 4 pruned nodes, max_depth=5\u001b[0m\n",
      "\u001b[34m[11]#011train-error:0.218#011validation-error:0.2252\u001b[0m\n",
      "\u001b[34m[19:29:06] src/tree/updater_prune.cc:74: tree pruning end, 1 roots, 28 extra nodes, 4 pruned nodes, max_depth=5\u001b[0m\n",
      "\u001b[34m[12]#011train-error:0.212467#011validation-error:0.2208\u001b[0m\n",
      "\u001b[34m[19:29:07] src/tree/updater_prune.cc:74: tree pruning end, 1 roots, 28 extra nodes, 6 pruned nodes, max_depth=5\u001b[0m\n",
      "\u001b[34m[13]#011train-error:0.209333#011validation-error:0.2183\u001b[0m\n",
      "\u001b[34m[19:29:09] src/tree/updater_prune.cc:74: tree pruning end, 1 roots, 32 extra nodes, 8 pruned nodes, max_depth=5\u001b[0m\n",
      "\u001b[34m[14]#011train-error:0.204667#011validation-error:0.2122\u001b[0m\n",
      "\u001b[34m[19:29:10] src/tree/updater_prune.cc:74: tree pruning end, 1 roots, 30 extra nodes, 10 pruned nodes, max_depth=5\u001b[0m\n",
      "\u001b[34m[15]#011train-error:0.200667#011validation-error:0.2096\u001b[0m\n",
      "\u001b[34m[19:29:11] src/tree/updater_prune.cc:74: tree pruning end, 1 roots, 26 extra nodes, 6 pruned nodes, max_depth=5\u001b[0m\n",
      "\u001b[34m[16]#011train-error:0.197267#011validation-error:0.2065\u001b[0m\n",
      "\u001b[34m[19:29:13] src/tree/updater_prune.cc:74: tree pruning end, 1 roots, 28 extra nodes, 12 pruned nodes, max_depth=5\u001b[0m\n",
      "\u001b[34m[17]#011train-error:0.193933#011validation-error:0.204\u001b[0m\n",
      "\u001b[34m[19:29:14] src/tree/updater_prune.cc:74: tree pruning end, 1 roots, 26 extra nodes, 6 pruned nodes, max_depth=5\u001b[0m\n",
      "\u001b[34m[18]#011train-error:0.1892#011validation-error:0.2009\u001b[0m\n",
      "\u001b[34m[19:29:15] src/tree/updater_prune.cc:74: tree pruning end, 1 roots, 34 extra nodes, 10 pruned nodes, max_depth=5\u001b[0m\n",
      "\u001b[34m[19]#011train-error:0.186733#011validation-error:0.2008\u001b[0m\n",
      "\u001b[34m[19:29:17] src/tree/updater_prune.cc:74: tree pruning end, 1 roots, 22 extra nodes, 8 pruned nodes, max_depth=5\u001b[0m\n",
      "\u001b[34m[20]#011train-error:0.186#011validation-error:0.1997\u001b[0m\n",
      "\u001b[34m[19:29:18] src/tree/updater_prune.cc:74: tree pruning end, 1 roots, 22 extra nodes, 12 pruned nodes, max_depth=5\u001b[0m\n",
      "\u001b[34m[21]#011train-error:0.1832#011validation-error:0.1967\u001b[0m\n",
      "\u001b[34m[19:29:19] src/tree/updater_prune.cc:74: tree pruning end, 1 roots, 24 extra nodes, 4 pruned nodes, max_depth=5\u001b[0m\n",
      "\u001b[34m[22]#011train-error:0.1812#011validation-error:0.1957\u001b[0m\n",
      "\u001b[34m[19:29:21] src/tree/updater_prune.cc:74: tree pruning end, 1 roots, 28 extra nodes, 10 pruned nodes, max_depth=5\u001b[0m\n",
      "\u001b[34m[23]#011train-error:0.179133#011validation-error:0.1934\u001b[0m\n",
      "\u001b[34m[19:29:22] src/tree/updater_prune.cc:74: tree pruning end, 1 roots, 20 extra nodes, 12 pruned nodes, max_depth=5\u001b[0m\n",
      "\u001b[34m[24]#011train-error:0.177733#011validation-error:0.1942\u001b[0m\n",
      "\u001b[34m[19:29:23] src/tree/updater_prune.cc:74: tree pruning end, 1 roots, 22 extra nodes, 14 pruned nodes, max_depth=5\u001b[0m\n",
      "\u001b[34m[25]#011train-error:0.175533#011validation-error:0.1909\u001b[0m\n",
      "\u001b[34m[19:29:25] src/tree/updater_prune.cc:74: tree pruning end, 1 roots, 24 extra nodes, 10 pruned nodes, max_depth=5\u001b[0m\n",
      "\u001b[34m[26]#011train-error:0.173467#011validation-error:0.1876\u001b[0m\n",
      "\u001b[34m[19:29:26] src/tree/updater_prune.cc:74: tree pruning end, 1 roots, 22 extra nodes, 10 pruned nodes, max_depth=5\u001b[0m\n",
      "\u001b[34m[27]#011train-error:0.1698#011validation-error:0.1857\u001b[0m\n",
      "\u001b[34m[19:29:28] src/tree/updater_prune.cc:74: tree pruning end, 1 roots, 32 extra nodes, 2 pruned nodes, max_depth=5\u001b[0m\n",
      "\u001b[34m[28]#011train-error:0.169533#011validation-error:0.1844\u001b[0m\n",
      "\u001b[34m[19:29:29] src/tree/updater_prune.cc:74: tree pruning end, 1 roots, 22 extra nodes, 12 pruned nodes, max_depth=5\u001b[0m\n",
      "\u001b[34m[29]#011train-error:0.167733#011validation-error:0.1841\u001b[0m\n",
      "\u001b[34m[19:29:30] src/tree/updater_prune.cc:74: tree pruning end, 1 roots, 20 extra nodes, 6 pruned nodes, max_depth=5\u001b[0m\n",
      "\u001b[34m[30]#011train-error:0.1666#011validation-error:0.1849\u001b[0m\n",
      "\u001b[34m[19:29:32] src/tree/updater_prune.cc:74: tree pruning end, 1 roots, 22 extra nodes, 8 pruned nodes, max_depth=5\u001b[0m\n",
      "\u001b[34m[31]#011train-error:0.164467#011validation-error:0.1855\u001b[0m\n",
      "\u001b[34m[19:29:33] src/tree/updater_prune.cc:74: tree pruning end, 1 roots, 24 extra nodes, 10 pruned nodes, max_depth=5\u001b[0m\n",
      "\u001b[34m[32]#011train-error:0.162733#011validation-error:0.1833\u001b[0m\n",
      "\u001b[34m[19:29:34] src/tree/updater_prune.cc:74: tree pruning end, 1 roots, 30 extra nodes, 14 pruned nodes, max_depth=5\u001b[0m\n",
      "\u001b[34m[33]#011train-error:0.159667#011validation-error:0.1834\u001b[0m\n",
      "\u001b[34m[19:29:36] src/tree/updater_prune.cc:74: tree pruning end, 1 roots, 26 extra nodes, 8 pruned nodes, max_depth=5\u001b[0m\n",
      "\u001b[34m[34]#011train-error:0.157667#011validation-error:0.1821\u001b[0m\n",
      "\u001b[34m[19:29:37] src/tree/updater_prune.cc:74: tree pruning end, 1 roots, 28 extra nodes, 4 pruned nodes, max_depth=5\u001b[0m\n",
      "\u001b[34m[35]#011train-error:0.1556#011validation-error:0.1807\u001b[0m\n",
      "\u001b[34m[19:29:38] src/tree/updater_prune.cc:74: tree pruning end, 1 roots, 24 extra nodes, 12 pruned nodes, max_depth=5\u001b[0m\n",
      "\u001b[34m[36]#011train-error:0.156133#011validation-error:0.1801\u001b[0m\n",
      "\u001b[34m[19:29:40] src/tree/updater_prune.cc:74: tree pruning end, 1 roots, 16 extra nodes, 16 pruned nodes, max_depth=5\u001b[0m\n",
      "\u001b[34m[37]#011train-error:0.1542#011validation-error:0.1787\u001b[0m\n",
      "\u001b[34m[19:29:41] src/tree/updater_prune.cc:74: tree pruning end, 1 roots, 18 extra nodes, 6 pruned nodes, max_depth=5\u001b[0m\n",
      "\u001b[34m[38]#011train-error:0.1538#011validation-error:0.1789\u001b[0m\n",
      "\u001b[34m[19:29:42] src/tree/updater_prune.cc:74: tree pruning end, 1 roots, 30 extra nodes, 8 pruned nodes, max_depth=5\u001b[0m\n",
      "\u001b[34m[39]#011train-error:0.153#011validation-error:0.178\u001b[0m\n",
      "\u001b[34m[19:29:44] src/tree/updater_prune.cc:74: tree pruning end, 1 roots, 26 extra nodes, 16 pruned nodes, max_depth=5\u001b[0m\n",
      "\u001b[34m[40]#011train-error:0.1506#011validation-error:0.1779\u001b[0m\n",
      "\u001b[34m[19:29:45] src/tree/updater_prune.cc:74: tree pruning end, 1 roots, 24 extra nodes, 14 pruned nodes, max_depth=5\u001b[0m\n",
      "\u001b[34m[41]#011train-error:0.149733#011validation-error:0.176\u001b[0m\n",
      "\u001b[34m[19:29:46] src/tree/updater_prune.cc:74: tree pruning end, 1 roots, 24 extra nodes, 16 pruned nodes, max_depth=5\u001b[0m\n",
      "\u001b[34m[42]#011train-error:0.1482#011validation-error:0.1757\u001b[0m\n",
      "\u001b[34m[19:29:48] src/tree/updater_prune.cc:74: tree pruning end, 1 roots, 28 extra nodes, 14 pruned nodes, max_depth=5\u001b[0m\n",
      "\u001b[34m[43]#011train-error:0.1476#011validation-error:0.1739\u001b[0m\n",
      "\u001b[34m[19:29:49] src/tree/updater_prune.cc:74: tree pruning end, 1 roots, 24 extra nodes, 8 pruned nodes, max_depth=5\u001b[0m\n",
      "\u001b[34m[44]#011train-error:0.1456#011validation-error:0.1718\u001b[0m\n",
      "\u001b[34m[19:29:50] src/tree/updater_prune.cc:74: tree pruning end, 1 roots, 16 extra nodes, 12 pruned nodes, max_depth=5\u001b[0m\n",
      "\u001b[34m[45]#011train-error:0.1448#011validation-error:0.1722\u001b[0m\n",
      "\u001b[34m[19:29:52] src/tree/updater_prune.cc:74: tree pruning end, 1 roots, 26 extra nodes, 6 pruned nodes, max_depth=5\u001b[0m\n",
      "\u001b[34m[46]#011train-error:0.142867#011validation-error:0.1702\u001b[0m\n",
      "\u001b[34m[19:29:53] src/tree/updater_prune.cc:74: tree pruning end, 1 roots, 14 extra nodes, 6 pruned nodes, max_depth=5\u001b[0m\n",
      "\u001b[34m[47]#011train-error:0.1428#011validation-error:0.1698\u001b[0m\n",
      "\u001b[34m[19:29:55] src/tree/updater_prune.cc:74: tree pruning end, 1 roots, 36 extra nodes, 8 pruned nodes, max_depth=5\u001b[0m\n",
      "\u001b[34m[48]#011train-error:0.140933#011validation-error:0.169\u001b[0m\n",
      "\u001b[34m[19:29:56] src/tree/updater_prune.cc:74: tree pruning end, 1 roots, 22 extra nodes, 4 pruned nodes, max_depth=5\u001b[0m\n",
      "\u001b[34m[49]#011train-error:0.139733#011validation-error:0.1674\u001b[0m\n",
      "\u001b[34m[19:29:57] src/tree/updater_prune.cc:74: tree pruning end, 1 roots, 16 extra nodes, 12 pruned nodes, max_depth=5\u001b[0m\n",
      "\u001b[34m[50]#011train-error:0.138467#011validation-error:0.1659\u001b[0m\n",
      "\u001b[34m[19:29:59] src/tree/updater_prune.cc:74: tree pruning end, 1 roots, 22 extra nodes, 12 pruned nodes, max_depth=5\u001b[0m\n",
      "\u001b[34m[51]#011train-error:0.138267#011validation-error:0.1671\u001b[0m\n",
      "\u001b[34m[19:30:00] src/tree/updater_prune.cc:74: tree pruning end, 1 roots, 30 extra nodes, 8 pruned nodes, max_depth=5\u001b[0m\n",
      "\u001b[34m[52]#011train-error:0.1372#011validation-error:0.1659\u001b[0m\n",
      "\u001b[34m[19:30:01] src/tree/updater_prune.cc:74: tree pruning end, 1 roots, 24 extra nodes, 12 pruned nodes, max_depth=5\u001b[0m\n",
      "\u001b[34m[53]#011train-error:0.135733#011validation-error:0.1668\u001b[0m\n",
      "\u001b[34m[19:30:03] src/tree/updater_prune.cc:74: tree pruning end, 1 roots, 14 extra nodes, 8 pruned nodes, max_depth=5\u001b[0m\n",
      "\u001b[34m[54]#011train-error:0.134533#011validation-error:0.1659\u001b[0m\n",
      "\u001b[34m[19:30:05] src/tree/updater_prune.cc:74: tree pruning end, 1 roots, 18 extra nodes, 16 pruned nodes, max_depth=5\u001b[0m\n",
      "\u001b[34m[55]#011train-error:0.133333#011validation-error:0.1652\u001b[0m\n",
      "\u001b[34m[19:30:06] src/tree/updater_prune.cc:74: tree pruning end, 1 roots, 20 extra nodes, 16 pruned nodes, max_depth=5\u001b[0m\n",
      "\u001b[34m[56]#011train-error:0.1328#011validation-error:0.1641\u001b[0m\n",
      "\u001b[34m[19:30:07] src/tree/updater_prune.cc:74: tree pruning end, 1 roots, 16 extra nodes, 10 pruned nodes, max_depth=5\u001b[0m\n",
      "\u001b[34m[57]#011train-error:0.132667#011validation-error:0.1626\u001b[0m\n",
      "\u001b[34m[19:30:09] src/tree/updater_prune.cc:74: tree pruning end, 1 roots, 18 extra nodes, 6 pruned nodes, max_depth=5\u001b[0m\n",
      "\u001b[34m[58]#011train-error:0.132333#011validation-error:0.1633\u001b[0m\n",
      "\u001b[34m[19:30:10] src/tree/updater_prune.cc:74: tree pruning end, 1 roots, 22 extra nodes, 10 pruned nodes, max_depth=5\u001b[0m\n",
      "\u001b[34m[59]#011train-error:0.131667#011validation-error:0.1628\u001b[0m\n",
      "\u001b[34m[19:30:11] src/tree/updater_prune.cc:74: tree pruning end, 1 roots, 20 extra nodes, 10 pruned nodes, max_depth=5\u001b[0m\n",
      "\u001b[34m[60]#011train-error:0.130267#011validation-error:0.1621\u001b[0m\n",
      "\u001b[34m[19:30:13] src/tree/updater_prune.cc:74: tree pruning end, 1 roots, 12 extra nodes, 8 pruned nodes, max_depth=5\u001b[0m\n",
      "\u001b[34m[61]#011train-error:0.129533#011validation-error:0.1619\u001b[0m\n",
      "\u001b[34m[19:30:14] src/tree/updater_prune.cc:74: tree pruning end, 1 roots, 22 extra nodes, 4 pruned nodes, max_depth=5\u001b[0m\n",
      "\u001b[34m[62]#011train-error:0.129#011validation-error:0.1613\u001b[0m\n",
      "\u001b[34m[19:30:15] src/tree/updater_prune.cc:74: tree pruning end, 1 roots, 22 extra nodes, 10 pruned nodes, max_depth=5\u001b[0m\n",
      "\u001b[34m[63]#011train-error:0.1276#011validation-error:0.1612\u001b[0m\n",
      "\u001b[34m[19:30:17] src/tree/updater_prune.cc:74: tree pruning end, 1 roots, 18 extra nodes, 8 pruned nodes, max_depth=5\u001b[0m\n",
      "\u001b[34m[64]#011train-error:0.127533#011validation-error:0.1608\u001b[0m\n",
      "\u001b[34m[19:30:18] src/tree/updater_prune.cc:74: tree pruning end, 1 roots, 26 extra nodes, 6 pruned nodes, max_depth=5\u001b[0m\n",
      "\u001b[34m[65]#011train-error:0.126533#011validation-error:0.1604\u001b[0m\n",
      "\u001b[34m[19:30:20] src/tree/updater_prune.cc:74: tree pruning end, 1 roots, 24 extra nodes, 6 pruned nodes, max_depth=5\u001b[0m\n",
      "\u001b[34m[66]#011train-error:0.1254#011validation-error:0.1611\u001b[0m\n",
      "\u001b[34m[19:30:21] src/tree/updater_prune.cc:74: tree pruning end, 1 roots, 16 extra nodes, 4 pruned nodes, max_depth=5\u001b[0m\n",
      "\u001b[34m[67]#011train-error:0.125#011validation-error:0.1598\u001b[0m\n",
      "\u001b[34m[19:30:22] src/tree/updater_prune.cc:74: tree pruning end, 1 roots, 20 extra nodes, 6 pruned nodes, max_depth=5\u001b[0m\n",
      "\u001b[34m[68]#011train-error:0.123733#011validation-error:0.1592\u001b[0m\n",
      "\u001b[34m[19:30:24] src/tree/updater_prune.cc:74: tree pruning end, 1 roots, 14 extra nodes, 6 pruned nodes, max_depth=5\u001b[0m\n",
      "\u001b[34m[69]#011train-error:0.123733#011validation-error:0.1584\u001b[0m\n",
      "\u001b[34m[19:30:25] src/tree/updater_prune.cc:74: tree pruning end, 1 roots, 22 extra nodes, 6 pruned nodes, max_depth=5\u001b[0m\n",
      "\u001b[34m[70]#011train-error:0.122533#011validation-error:0.1582\u001b[0m\n",
      "\u001b[34m[19:30:26] src/tree/updater_prune.cc:74: tree pruning end, 1 roots, 24 extra nodes, 12 pruned nodes, max_depth=5\u001b[0m\n",
      "\u001b[34m[71]#011train-error:0.1222#011validation-error:0.1572\u001b[0m\n",
      "\u001b[34m[19:30:28] src/tree/updater_prune.cc:74: tree pruning end, 1 roots, 26 extra nodes, 12 pruned nodes, max_depth=5\u001b[0m\n",
      "\u001b[34m[72]#011train-error:0.121#011validation-error:0.1574\u001b[0m\n",
      "\u001b[34m[19:30:29] src/tree/updater_prune.cc:74: tree pruning end, 1 roots, 14 extra nodes, 8 pruned nodes, max_depth=5\u001b[0m\n",
      "\u001b[34m[73]#011train-error:0.120133#011validation-error:0.1567\u001b[0m\n",
      "\u001b[34m[19:30:30] src/tree/updater_prune.cc:74: tree pruning end, 1 roots, 28 extra nodes, 20 pruned nodes, max_depth=5\u001b[0m\n",
      "\u001b[34m[74]#011train-error:0.120133#011validation-error:0.1566\u001b[0m\n",
      "\u001b[34m[19:30:32] src/tree/updater_prune.cc:74: tree pruning end, 1 roots, 24 extra nodes, 10 pruned nodes, max_depth=5\u001b[0m\n",
      "\u001b[34m[75]#011train-error:0.119467#011validation-error:0.1567\u001b[0m\n",
      "\u001b[34m[19:30:33] src/tree/updater_prune.cc:74: tree pruning end, 1 roots, 10 extra nodes, 8 pruned nodes, max_depth=5\u001b[0m\n",
      "\u001b[34m[76]#011train-error:0.119267#011validation-error:0.1562\u001b[0m\n",
      "\u001b[34m[19:30:35] src/tree/updater_prune.cc:74: tree pruning end, 1 roots, 16 extra nodes, 8 pruned nodes, max_depth=5\u001b[0m\n",
      "\u001b[34m[77]#011train-error:0.119267#011validation-error:0.1556\u001b[0m\n",
      "\u001b[34m[19:30:36] src/tree/updater_prune.cc:74: tree pruning end, 1 roots, 20 extra nodes, 14 pruned nodes, max_depth=5\u001b[0m\n",
      "\u001b[34m[78]#011train-error:0.118267#011validation-error:0.1549\u001b[0m\n",
      "\u001b[34m[19:30:37] src/tree/updater_prune.cc:74: tree pruning end, 1 roots, 14 extra nodes, 8 pruned nodes, max_depth=5\u001b[0m\n",
      "\u001b[34m[79]#011train-error:0.118467#011validation-error:0.1547\u001b[0m\n",
      "\u001b[34m[19:30:39] src/tree/updater_prune.cc:74: tree pruning end, 1 roots, 16 extra nodes, 8 pruned nodes, max_depth=5\u001b[0m\n",
      "\u001b[34m[80]#011train-error:0.118533#011validation-error:0.1541\u001b[0m\n",
      "\u001b[34m[19:30:40] src/tree/updater_prune.cc:74: tree pruning end, 1 roots, 18 extra nodes, 8 pruned nodes, max_depth=5\u001b[0m\n",
      "\u001b[34m[81]#011train-error:0.117733#011validation-error:0.1534\u001b[0m\n",
      "\u001b[34m[19:30:41] src/tree/updater_prune.cc:74: tree pruning end, 1 roots, 10 extra nodes, 12 pruned nodes, max_depth=5\u001b[0m\n",
      "\u001b[34m[82]#011train-error:0.118#011validation-error:0.153\u001b[0m\n",
      "\u001b[34m[19:30:43] src/tree/updater_prune.cc:74: tree pruning end, 1 roots, 18 extra nodes, 12 pruned nodes, max_depth=5\u001b[0m\n",
      "\u001b[34m[83]#011train-error:0.117867#011validation-error:0.1533\u001b[0m\n",
      "\u001b[34m[19:30:44] src/tree/updater_prune.cc:74: tree pruning end, 1 roots, 14 extra nodes, 14 pruned nodes, max_depth=5\u001b[0m\n",
      "\u001b[34m[84]#011train-error:0.117667#011validation-error:0.152\u001b[0m\n",
      "\u001b[34m[19:30:45] src/tree/updater_prune.cc:74: tree pruning end, 1 roots, 14 extra nodes, 14 pruned nodes, max_depth=5\u001b[0m\n",
      "\u001b[34m[85]#011train-error:0.116867#011validation-error:0.1514\u001b[0m\n",
      "\u001b[34m[19:30:47] src/tree/updater_prune.cc:74: tree pruning end, 1 roots, 20 extra nodes, 14 pruned nodes, max_depth=5\u001b[0m\n",
      "\u001b[34m[86]#011train-error:0.115733#011validation-error:0.1509\u001b[0m\n",
      "\u001b[34m[19:30:48] src/tree/updater_prune.cc:74: tree pruning end, 1 roots, 28 extra nodes, 6 pruned nodes, max_depth=5\u001b[0m\n",
      "\u001b[34m[87]#011train-error:0.114#011validation-error:0.1502\u001b[0m\n",
      "\u001b[34m[19:30:49] src/tree/updater_prune.cc:74: tree pruning end, 1 roots, 24 extra nodes, 6 pruned nodes, max_depth=5\u001b[0m\n",
      "\u001b[34m[88]#011train-error:0.113667#011validation-error:0.1496\u001b[0m\n",
      "\u001b[34m[19:30:51] src/tree/updater_prune.cc:74: tree pruning end, 1 roots, 16 extra nodes, 8 pruned nodes, max_depth=5\u001b[0m\n",
      "\u001b[34m[89]#011train-error:0.113867#011validation-error:0.15\u001b[0m\n",
      "\u001b[34m[19:30:52] src/tree/updater_prune.cc:74: tree pruning end, 1 roots, 28 extra nodes, 8 pruned nodes, max_depth=5\u001b[0m\n",
      "\u001b[34m[90]#011train-error:0.1132#011validation-error:0.1508\u001b[0m\n",
      "\u001b[34m[19:30:53] src/tree/updater_prune.cc:74: tree pruning end, 1 roots, 18 extra nodes, 8 pruned nodes, max_depth=5\u001b[0m\n",
      "\u001b[34m[91]#011train-error:0.1128#011validation-error:0.1507\u001b[0m\n",
      "\u001b[34m[19:30:55] src/tree/updater_prune.cc:74: tree pruning end, 1 roots, 14 extra nodes, 14 pruned nodes, max_depth=5\u001b[0m\n",
      "\u001b[34m[92]#011train-error:0.111467#011validation-error:0.1493\u001b[0m\n",
      "\u001b[34m[19:30:56] src/tree/updater_prune.cc:74: tree pruning end, 1 roots, 14 extra nodes, 12 pruned nodes, max_depth=5\u001b[0m\n",
      "\u001b[34m[93]#011train-error:0.111267#011validation-error:0.1494\u001b[0m\n",
      "\u001b[34m[19:30:58] src/tree/updater_prune.cc:74: tree pruning end, 1 roots, 10 extra nodes, 10 pruned nodes, max_depth=5\u001b[0m\n",
      "\u001b[34m[94]#011train-error:0.110867#011validation-error:0.149\u001b[0m\n",
      "\u001b[34m[19:30:59] src/tree/updater_prune.cc:74: tree pruning end, 1 roots, 12 extra nodes, 10 pruned nodes, max_depth=5\u001b[0m\n",
      "\u001b[34m[95]#011train-error:0.111667#011validation-error:0.1492\u001b[0m\n",
      "\u001b[34m[19:31:00] src/tree/updater_prune.cc:74: tree pruning end, 1 roots, 14 extra nodes, 8 pruned nodes, max_depth=5\u001b[0m\n",
      "\u001b[34m[96]#011train-error:0.110867#011validation-error:0.1497\u001b[0m\n",
      "\u001b[34m[19:31:02] src/tree/updater_prune.cc:74: tree pruning end, 1 roots, 12 extra nodes, 12 pruned nodes, max_depth=5\u001b[0m\n",
      "\u001b[34m[97]#011train-error:0.110267#011validation-error:0.1508\u001b[0m\n",
      "\u001b[34m[19:31:04] src/tree/updater_prune.cc:74: tree pruning end, 1 roots, 24 extra nodes, 6 pruned nodes, max_depth=5\u001b[0m\n",
      "\u001b[34m[98]#011train-error:0.109533#011validation-error:0.1505\u001b[0m\n",
      "\u001b[34m[19:31:05] src/tree/updater_prune.cc:74: tree pruning end, 1 roots, 14 extra nodes, 8 pruned nodes, max_depth=5\u001b[0m\n",
      "\u001b[34m[99]#011train-error:0.108933#011validation-error:0.1503\u001b[0m\n",
      "\u001b[34m[19:31:07] src/tree/updater_prune.cc:74: tree pruning end, 1 roots, 14 extra nodes, 8 pruned nodes, max_depth=5\u001b[0m\n",
      "\u001b[34m[100]#011train-error:0.108267#011validation-error:0.1489\u001b[0m\n",
      "\u001b[34m[19:31:08] src/tree/updater_prune.cc:74: tree pruning end, 1 roots, 10 extra nodes, 8 pruned nodes, max_depth=5\u001b[0m\n",
      "\u001b[34m[101]#011train-error:0.108267#011validation-error:0.1488\u001b[0m\n",
      "\u001b[34m[19:31:09] src/tree/updater_prune.cc:74: tree pruning end, 1 roots, 12 extra nodes, 12 pruned nodes, max_depth=5\u001b[0m\n",
      "\u001b[34m[102]#011train-error:0.107933#011validation-error:0.1488\u001b[0m\n",
      "\u001b[34m[19:31:11] src/tree/updater_prune.cc:74: tree pruning end, 1 roots, 14 extra nodes, 2 pruned nodes, max_depth=5\u001b[0m\n",
      "\u001b[34m[103]#011train-error:0.107533#011validation-error:0.1476\u001b[0m\n",
      "\u001b[34m[19:31:12] src/tree/updater_prune.cc:74: tree pruning end, 1 roots, 10 extra nodes, 6 pruned nodes, max_depth=5\u001b[0m\n",
      "\u001b[34m[104]#011train-error:0.1074#011validation-error:0.1473\u001b[0m\n",
      "\u001b[34m[19:31:14] src/tree/updater_prune.cc:74: tree pruning end, 1 roots, 12 extra nodes, 10 pruned nodes, max_depth=5\u001b[0m\n",
      "\u001b[34m[105]#011train-error:0.106467#011validation-error:0.1473\u001b[0m\n",
      "\u001b[34m[19:31:15] src/tree/updater_prune.cc:74: tree pruning end, 1 roots, 10 extra nodes, 14 pruned nodes, max_depth=5\u001b[0m\n",
      "\u001b[34m[106]#011train-error:0.1058#011validation-error:0.1467\u001b[0m\n",
      "\u001b[34m[19:31:17] src/tree/updater_prune.cc:74: tree pruning end, 1 roots, 24 extra nodes, 8 pruned nodes, max_depth=5\u001b[0m\n",
      "\u001b[34m[107]#011train-error:0.1056#011validation-error:0.1463\u001b[0m\n",
      "\u001b[34m[19:31:20] src/tree/updater_prune.cc:74: tree pruning end, 1 roots, 18 extra nodes, 10 pruned nodes, max_depth=5\u001b[0m\n",
      "\u001b[34m[108]#011train-error:0.104933#011validation-error:0.1461\u001b[0m\n",
      "\u001b[34m[19:31:22] src/tree/updater_prune.cc:74: tree pruning end, 1 roots, 16 extra nodes, 18 pruned nodes, max_depth=5\u001b[0m\n",
      "\u001b[34m[109]#011train-error:0.1044#011validation-error:0.1453\u001b[0m\n",
      "\u001b[34m[19:31:23] src/tree/updater_prune.cc:74: tree pruning end, 1 roots, 20 extra nodes, 8 pruned nodes, max_depth=5\u001b[0m\n",
      "\u001b[34m[110]#011train-error:0.104533#011validation-error:0.1453\u001b[0m\n",
      "\u001b[34m[19:31:24] src/tree/updater_prune.cc:74: tree pruning end, 1 roots, 16 extra nodes, 8 pruned nodes, max_depth=5\u001b[0m\n",
      "\u001b[34m[111]#011train-error:0.104467#011validation-error:0.1446\u001b[0m\n",
      "\u001b[34m[19:31:26] src/tree/updater_prune.cc:74: tree pruning end, 1 roots, 26 extra nodes, 12 pruned nodes, max_depth=5\u001b[0m\n",
      "\u001b[34m[112]#011train-error:0.103267#011validation-error:0.1441\u001b[0m\n",
      "\u001b[34m[19:31:27] src/tree/updater_prune.cc:74: tree pruning end, 1 roots, 20 extra nodes, 16 pruned nodes, max_depth=5\u001b[0m\n",
      "\u001b[34m[113]#011train-error:0.103533#011validation-error:0.1441\u001b[0m\n",
      "\u001b[34m[19:31:28] src/tree/updater_prune.cc:74: tree pruning end, 1 roots, 10 extra nodes, 12 pruned nodes, max_depth=5\u001b[0m\n",
      "\u001b[34m[114]#011train-error:0.102933#011validation-error:0.1444\u001b[0m\n",
      "\u001b[34m[19:31:30] src/tree/updater_prune.cc:74: tree pruning end, 1 roots, 12 extra nodes, 12 pruned nodes, max_depth=5\u001b[0m\n",
      "\u001b[34m[115]#011train-error:0.102667#011validation-error:0.144\u001b[0m\n",
      "\u001b[34m[19:31:31] src/tree/updater_prune.cc:74: tree pruning end, 1 roots, 20 extra nodes, 8 pruned nodes, max_depth=5\u001b[0m\n",
      "\u001b[34m[116]#011train-error:0.1026#011validation-error:0.1444\u001b[0m\n",
      "\u001b[34m[19:31:33] src/tree/updater_prune.cc:74: tree pruning end, 1 roots, 18 extra nodes, 10 pruned nodes, max_depth=5\u001b[0m\n",
      "\u001b[34m[117]#011train-error:0.101933#011validation-error:0.1443\u001b[0m\n",
      "\u001b[34m[19:31:34] src/tree/updater_prune.cc:74: tree pruning end, 1 roots, 16 extra nodes, 8 pruned nodes, max_depth=5\u001b[0m\n",
      "\u001b[34m[118]#011train-error:0.101333#011validation-error:0.1437\u001b[0m\n",
      "\u001b[34m[19:31:35] src/tree/updater_prune.cc:74: tree pruning end, 1 roots, 18 extra nodes, 12 pruned nodes, max_depth=5\u001b[0m\n",
      "\u001b[34m[119]#011train-error:0.100867#011validation-error:0.144\u001b[0m\n",
      "\u001b[34m[19:31:37] src/tree/updater_prune.cc:74: tree pruning end, 1 roots, 18 extra nodes, 10 pruned nodes, max_depth=5\u001b[0m\n",
      "\u001b[34m[120]#011train-error:0.100867#011validation-error:0.1437\u001b[0m\n",
      "\u001b[34m[19:31:38] src/tree/updater_prune.cc:74: tree pruning end, 1 roots, 12 extra nodes, 8 pruned nodes, max_depth=5\u001b[0m\n",
      "\u001b[34m[121]#011train-error:0.100733#011validation-error:0.1432\u001b[0m\n",
      "\u001b[34m[19:31:39] src/tree/updater_prune.cc:74: tree pruning end, 1 roots, 22 extra nodes, 10 pruned nodes, max_depth=5\u001b[0m\n",
      "\u001b[34m[122]#011train-error:0.100533#011validation-error:0.1426\u001b[0m\n",
      "\u001b[34m[19:31:41] src/tree/updater_prune.cc:74: tree pruning end, 1 roots, 14 extra nodes, 6 pruned nodes, max_depth=5\u001b[0m\n",
      "\u001b[34m[123]#011train-error:0.099733#011validation-error:0.1423\u001b[0m\n",
      "\u001b[34m[19:31:42] src/tree/updater_prune.cc:74: tree pruning end, 1 roots, 14 extra nodes, 10 pruned nodes, max_depth=5\u001b[0m\n",
      "\u001b[34m[124]#011train-error:0.099#011validation-error:0.1423\u001b[0m\n",
      "\u001b[34m[19:31:43] src/tree/updater_prune.cc:74: tree pruning end, 1 roots, 10 extra nodes, 6 pruned nodes, max_depth=5\u001b[0m\n",
      "\u001b[34m[125]#011train-error:0.0994#011validation-error:0.1418\u001b[0m\n",
      "\u001b[34m[19:31:45] src/tree/updater_prune.cc:74: tree pruning end, 1 roots, 22 extra nodes, 8 pruned nodes, max_depth=5\u001b[0m\n",
      "\u001b[34m[126]#011train-error:0.098933#011validation-error:0.142\u001b[0m\n",
      "\u001b[34m[19:31:46] src/tree/updater_prune.cc:74: tree pruning end, 1 roots, 16 extra nodes, 10 pruned nodes, max_depth=5\u001b[0m\n",
      "\u001b[34m[127]#011train-error:0.098333#011validation-error:0.1414\u001b[0m\n",
      "\u001b[34m[19:31:47] src/tree/updater_prune.cc:74: tree pruning end, 1 roots, 16 extra nodes, 16 pruned nodes, max_depth=5\u001b[0m\n",
      "\u001b[34m[128]#011train-error:0.097733#011validation-error:0.141\u001b[0m\n",
      "\u001b[34m[19:31:49] src/tree/updater_prune.cc:74: tree pruning end, 1 roots, 24 extra nodes, 12 pruned nodes, max_depth=5\u001b[0m\n",
      "\u001b[34m[129]#011train-error:0.097933#011validation-error:0.141\u001b[0m\n",
      "\u001b[34m[19:31:50] src/tree/updater_prune.cc:74: tree pruning end, 1 roots, 12 extra nodes, 4 pruned nodes, max_depth=5\u001b[0m\n",
      "\u001b[34m[130]#011train-error:0.097533#011validation-error:0.1411\u001b[0m\n",
      "\u001b[34m[19:31:51] src/tree/updater_prune.cc:74: tree pruning end, 1 roots, 14 extra nodes, 12 pruned nodes, max_depth=5\u001b[0m\n",
      "\u001b[34m[131]#011train-error:0.0974#011validation-error:0.1411\u001b[0m\n",
      "\u001b[34m[19:31:53] src/tree/updater_prune.cc:74: tree pruning end, 1 roots, 18 extra nodes, 6 pruned nodes, max_depth=5\u001b[0m\n",
      "\u001b[34m[132]#011train-error:0.095867#011validation-error:0.141\u001b[0m\n",
      "\u001b[34m[19:31:54] src/tree/updater_prune.cc:74: tree pruning end, 1 roots, 10 extra nodes, 6 pruned nodes, max_depth=5\u001b[0m\n",
      "\u001b[34m[133]#011train-error:0.096#011validation-error:0.1405\u001b[0m\n",
      "\u001b[34m[19:31:56] src/tree/updater_prune.cc:74: tree pruning end, 1 roots, 10 extra nodes, 6 pruned nodes, max_depth=5\u001b[0m\n",
      "\u001b[34m[134]#011train-error:0.095533#011validation-error:0.1406\u001b[0m\n",
      "\u001b[34m[19:31:57] src/tree/updater_prune.cc:74: tree pruning end, 1 roots, 20 extra nodes, 8 pruned nodes, max_depth=5\u001b[0m\n",
      "\u001b[34m[135]#011train-error:0.094867#011validation-error:0.1415\u001b[0m\n",
      "\u001b[34m[19:31:58] src/tree/updater_prune.cc:74: tree pruning end, 1 roots, 16 extra nodes, 4 pruned nodes, max_depth=5\u001b[0m\n",
      "\u001b[34m[136]#011train-error:0.094133#011validation-error:0.1409\u001b[0m\n",
      "\u001b[34m[19:32:00] src/tree/updater_prune.cc:74: tree pruning end, 1 roots, 12 extra nodes, 8 pruned nodes, max_depth=5\u001b[0m\n",
      "\u001b[34m[137]#011train-error:0.094667#011validation-error:0.1415\u001b[0m\n",
      "\u001b[34m[19:32:01] src/tree/updater_prune.cc:74: tree pruning end, 1 roots, 22 extra nodes, 14 pruned nodes, max_depth=5\u001b[0m\n",
      "\u001b[34m[138]#011train-error:0.094133#011validation-error:0.1414\u001b[0m\n",
      "\u001b[34m[19:32:03] src/tree/updater_prune.cc:74: tree pruning end, 1 roots, 12 extra nodes, 10 pruned nodes, max_depth=5\u001b[0m\n",
      "\u001b[34m[139]#011train-error:0.093733#011validation-error:0.1408\u001b[0m\n",
      "\u001b[34m[19:32:04] src/tree/updater_prune.cc:74: tree pruning end, 1 roots, 14 extra nodes, 2 pruned nodes, max_depth=5\u001b[0m\n",
      "\u001b[34m[140]#011train-error:0.093333#011validation-error:0.1409\u001b[0m\n",
      "\u001b[34m[19:32:06] src/tree/updater_prune.cc:74: tree pruning end, 1 roots, 12 extra nodes, 8 pruned nodes, max_depth=5\u001b[0m\n",
      "\u001b[34m[141]#011train-error:0.0932#011validation-error:0.1398\u001b[0m\n",
      "\u001b[34m[19:32:07] src/tree/updater_prune.cc:74: tree pruning end, 1 roots, 14 extra nodes, 4 pruned nodes, max_depth=5\u001b[0m\n",
      "\u001b[34m[142]#011train-error:0.092733#011validation-error:0.1403\u001b[0m\n",
      "\u001b[34m[19:32:08] src/tree/updater_prune.cc:74: tree pruning end, 1 roots, 10 extra nodes, 10 pruned nodes, max_depth=5\u001b[0m\n",
      "\u001b[34m[143]#011train-error:0.093267#011validation-error:0.1398\u001b[0m\n",
      "\u001b[34m[19:32:10] src/tree/updater_prune.cc:74: tree pruning end, 1 roots, 16 extra nodes, 6 pruned nodes, max_depth=5\u001b[0m\n",
      "\u001b[34m[144]#011train-error:0.093333#011validation-error:0.1395\u001b[0m\n",
      "\u001b[34m[19:32:11] src/tree/updater_prune.cc:74: tree pruning end, 1 roots, 24 extra nodes, 4 pruned nodes, max_depth=5\u001b[0m\n",
      "\u001b[34m[145]#011train-error:0.093533#011validation-error:0.1389\u001b[0m\n",
      "\u001b[34m[19:32:12] src/tree/updater_prune.cc:74: tree pruning end, 1 roots, 10 extra nodes, 8 pruned nodes, max_depth=5\u001b[0m\n",
      "\u001b[34m[146]#011train-error:0.0934#011validation-error:0.1395\u001b[0m\n",
      "\u001b[34m[19:32:14] src/tree/updater_prune.cc:74: tree pruning end, 1 roots, 10 extra nodes, 6 pruned nodes, max_depth=5\u001b[0m\n",
      "\u001b[34m[147]#011train-error:0.093133#011validation-error:0.1396\u001b[0m\n",
      "\u001b[34m[19:32:15] src/tree/updater_prune.cc:74: tree pruning end, 1 roots, 12 extra nodes, 10 pruned nodes, max_depth=5\u001b[0m\n",
      "\u001b[34m[148]#011train-error:0.093#011validation-error:0.1395\u001b[0m\n",
      "\u001b[34m[19:32:16] src/tree/updater_prune.cc:74: tree pruning end, 1 roots, 16 extra nodes, 2 pruned nodes, max_depth=5\u001b[0m\n",
      "\u001b[34m[149]#011train-error:0.091867#011validation-error:0.1392\u001b[0m\n",
      "\u001b[34m[19:32:18] src/tree/updater_prune.cc:74: tree pruning end, 1 roots, 20 extra nodes, 10 pruned nodes, max_depth=5\u001b[0m\n",
      "\u001b[34m[150]#011train-error:0.0916#011validation-error:0.1382\u001b[0m\n",
      "\u001b[34m[19:32:19] src/tree/updater_prune.cc:74: tree pruning end, 1 roots, 16 extra nodes, 10 pruned nodes, max_depth=5\u001b[0m\n",
      "\u001b[34m[151]#011train-error:0.090867#011validation-error:0.1387\u001b[0m\n",
      "\u001b[34m[19:32:21] src/tree/updater_prune.cc:74: tree pruning end, 1 roots, 18 extra nodes, 8 pruned nodes, max_depth=5\u001b[0m\n",
      "\u001b[34m[152]#011train-error:0.0906#011validation-error:0.1385\u001b[0m\n",
      "\u001b[34m[19:32:22] src/tree/updater_prune.cc:74: tree pruning end, 1 roots, 18 extra nodes, 10 pruned nodes, max_depth=5\u001b[0m\n",
      "\u001b[34m[153]#011train-error:0.090333#011validation-error:0.1385\u001b[0m\n",
      "\u001b[34m[19:32:23] src/tree/updater_prune.cc:74: tree pruning end, 1 roots, 12 extra nodes, 12 pruned nodes, max_depth=5\u001b[0m\n",
      "\u001b[34m[154]#011train-error:0.089933#011validation-error:0.1382\u001b[0m\n",
      "\u001b[34m[19:32:25] src/tree/updater_prune.cc:74: tree pruning end, 1 roots, 10 extra nodes, 8 pruned nodes, max_depth=5\u001b[0m\n",
      "\u001b[34m[155]#011train-error:0.09#011validation-error:0.1386\u001b[0m\n",
      "\u001b[34m[19:32:26] src/tree/updater_prune.cc:74: tree pruning end, 1 roots, 12 extra nodes, 4 pruned nodes, max_depth=5\u001b[0m\n",
      "\u001b[34m[156]#011train-error:0.09#011validation-error:0.1384\u001b[0m\n",
      "\u001b[34m[19:32:27] src/tree/updater_prune.cc:74: tree pruning end, 1 roots, 10 extra nodes, 4 pruned nodes, max_depth=5\u001b[0m\n",
      "\u001b[34m[157]#011train-error:0.089933#011validation-error:0.1381\u001b[0m\n",
      "\u001b[34m[19:32:29] src/tree/updater_prune.cc:74: tree pruning end, 1 roots, 10 extra nodes, 6 pruned nodes, max_depth=5\u001b[0m\n",
      "\u001b[34m[158]#011train-error:0.0896#011validation-error:0.1378\u001b[0m\n",
      "\u001b[34m[19:32:30] src/tree/updater_prune.cc:74: tree pruning end, 1 roots, 14 extra nodes, 18 pruned nodes, max_depth=5\u001b[0m\n",
      "\u001b[34m[159]#011train-error:0.088733#011validation-error:0.1384\u001b[0m\n",
      "\u001b[34m[19:32:31] src/tree/updater_prune.cc:74: tree pruning end, 1 roots, 16 extra nodes, 14 pruned nodes, max_depth=5\u001b[0m\n",
      "\u001b[34m[160]#011train-error:0.0884#011validation-error:0.1381\u001b[0m\n",
      "\u001b[34m[19:32:33] src/tree/updater_prune.cc:74: tree pruning end, 1 roots, 12 extra nodes, 10 pruned nodes, max_depth=5\u001b[0m\n",
      "\u001b[34m[161]#011train-error:0.088533#011validation-error:0.1384\u001b[0m\n",
      "\u001b[34m[19:32:34] src/tree/updater_prune.cc:74: tree pruning end, 1 roots, 12 extra nodes, 4 pruned nodes, max_depth=5\u001b[0m\n",
      "\u001b[34m[162]#011train-error:0.088067#011validation-error:0.1379\u001b[0m\n",
      "\u001b[34m[19:32:35] src/tree/updater_prune.cc:74: tree pruning end, 1 roots, 16 extra nodes, 8 pruned nodes, max_depth=5\u001b[0m\n",
      "\u001b[34m[163]#011train-error:0.087133#011validation-error:0.1373\u001b[0m\n",
      "\u001b[34m[19:32:37] src/tree/updater_prune.cc:74: tree pruning end, 1 roots, 14 extra nodes, 8 pruned nodes, max_depth=5\u001b[0m\n",
      "\u001b[34m[164]#011train-error:0.086667#011validation-error:0.1376\u001b[0m\n",
      "\u001b[34m[19:32:38] src/tree/updater_prune.cc:74: tree pruning end, 1 roots, 10 extra nodes, 14 pruned nodes, max_depth=5\u001b[0m\n",
      "\u001b[34m[165]#011train-error:0.086467#011validation-error:0.1367\u001b[0m\n",
      "\u001b[34m[19:32:39] src/tree/updater_prune.cc:74: tree pruning end, 1 roots, 18 extra nodes, 10 pruned nodes, max_depth=5\u001b[0m\n",
      "\u001b[34m[166]#011train-error:0.086333#011validation-error:0.1365\u001b[0m\n",
      "\u001b[34m[19:32:41] src/tree/updater_prune.cc:74: tree pruning end, 1 roots, 16 extra nodes, 8 pruned nodes, max_depth=5\u001b[0m\n",
      "\u001b[34m[167]#011train-error:0.0862#011validation-error:0.1366\u001b[0m\n",
      "\u001b[34m[19:32:42] src/tree/updater_prune.cc:74: tree pruning end, 1 roots, 10 extra nodes, 14 pruned nodes, max_depth=5\u001b[0m\n",
      "\u001b[34m[168]#011train-error:0.086067#011validation-error:0.1365\u001b[0m\n",
      "\u001b[34m[19:32:43] src/tree/updater_prune.cc:74: tree pruning end, 1 roots, 12 extra nodes, 0 pruned nodes, max_depth=5\u001b[0m\n",
      "\u001b[34m[169]#011train-error:0.085733#011validation-error:0.1373\u001b[0m\n",
      "\u001b[34m[19:32:45] src/tree/updater_prune.cc:74: tree pruning end, 1 roots, 14 extra nodes, 6 pruned nodes, max_depth=5\u001b[0m\n",
      "\u001b[34m[170]#011train-error:0.0854#011validation-error:0.1366\u001b[0m\n",
      "\u001b[34m[19:32:46] src/tree/updater_prune.cc:74: tree pruning end, 1 roots, 12 extra nodes, 8 pruned nodes, max_depth=5\u001b[0m\n",
      "\u001b[34m[171]#011train-error:0.085067#011validation-error:0.137\u001b[0m\n",
      "\u001b[34m[19:32:47] src/tree/updater_prune.cc:74: tree pruning end, 1 roots, 12 extra nodes, 4 pruned nodes, max_depth=5\u001b[0m\n",
      "\u001b[34m[172]#011train-error:0.084733#011validation-error:0.137\u001b[0m\n",
      "\u001b[34m[19:32:49] src/tree/updater_prune.cc:74: tree pruning end, 1 roots, 10 extra nodes, 6 pruned nodes, max_depth=5\u001b[0m\n",
      "\u001b[34m[173]#011train-error:0.084933#011validation-error:0.1365\u001b[0m\n",
      "\u001b[34m[19:32:50] src/tree/updater_prune.cc:74: tree pruning end, 1 roots, 20 extra nodes, 10 pruned nodes, max_depth=5\u001b[0m\n",
      "\u001b[34m[174]#011train-error:0.084933#011validation-error:0.1362\u001b[0m\n",
      "\u001b[34m[19:32:52] src/tree/updater_prune.cc:74: tree pruning end, 1 roots, 14 extra nodes, 10 pruned nodes, max_depth=5\u001b[0m\n",
      "\u001b[34m[175]#011train-error:0.084933#011validation-error:0.136\u001b[0m\n",
      "\u001b[34m[19:32:53] src/tree/updater_prune.cc:74: tree pruning end, 1 roots, 18 extra nodes, 12 pruned nodes, max_depth=5\u001b[0m\n",
      "\u001b[34m[176]#011train-error:0.084867#011validation-error:0.1366\u001b[0m\n",
      "\u001b[34m[19:32:54] src/tree/updater_prune.cc:74: tree pruning end, 1 roots, 16 extra nodes, 8 pruned nodes, max_depth=5\u001b[0m\n",
      "\u001b[34m[177]#011train-error:0.084467#011validation-error:0.1354\u001b[0m\n",
      "\u001b[34m[19:32:56] src/tree/updater_prune.cc:74: tree pruning end, 1 roots, 12 extra nodes, 8 pruned nodes, max_depth=5\u001b[0m\n",
      "\u001b[34m[178]#011train-error:0.084733#011validation-error:0.1356\u001b[0m\n",
      "\u001b[34m[19:32:57] src/tree/updater_prune.cc:74: tree pruning end, 1 roots, 22 extra nodes, 10 pruned nodes, max_depth=5\u001b[0m\n",
      "\u001b[34m[179]#011train-error:0.0838#011validation-error:0.1363\u001b[0m\n",
      "\u001b[34m[19:32:58] src/tree/updater_prune.cc:74: tree pruning end, 1 roots, 14 extra nodes, 12 pruned nodes, max_depth=5\u001b[0m\n",
      "\u001b[34m[180]#011train-error:0.083267#011validation-error:0.1362\u001b[0m\n",
      "\u001b[34m[19:33:00] src/tree/updater_prune.cc:74: tree pruning end, 1 roots, 12 extra nodes, 10 pruned nodes, max_depth=5\u001b[0m\n",
      "\u001b[34m[181]#011train-error:0.082733#011validation-error:0.1367\u001b[0m\n",
      "\u001b[34m[19:33:01] src/tree/updater_prune.cc:74: tree pruning end, 1 roots, 14 extra nodes, 4 pruned nodes, max_depth=5\u001b[0m\n",
      "\u001b[34m[182]#011train-error:0.082#011validation-error:0.1366\u001b[0m\n",
      "\u001b[34m[19:33:03] src/tree/updater_prune.cc:74: tree pruning end, 1 roots, 16 extra nodes, 6 pruned nodes, max_depth=5\u001b[0m\n",
      "\u001b[34m[183]#011train-error:0.081333#011validation-error:0.1357\u001b[0m\n",
      "\u001b[34m[19:33:04] src/tree/updater_prune.cc:74: tree pruning end, 1 roots, 12 extra nodes, 10 pruned nodes, max_depth=5\u001b[0m\n",
      "\u001b[34m[184]#011train-error:0.081133#011validation-error:0.1349\u001b[0m\n",
      "\u001b[34m[19:33:06] src/tree/updater_prune.cc:74: tree pruning end, 1 roots, 10 extra nodes, 4 pruned nodes, max_depth=5\u001b[0m\n",
      "\u001b[34m[185]#011train-error:0.081133#011validation-error:0.1348\u001b[0m\n",
      "\u001b[34m[19:33:07] src/tree/updater_prune.cc:74: tree pruning end, 1 roots, 20 extra nodes, 20 pruned nodes, max_depth=5\u001b[0m\n",
      "\u001b[34m[186]#011train-error:0.0808#011validation-error:0.1348\u001b[0m\n",
      "\u001b[34m[19:33:09] src/tree/updater_prune.cc:74: tree pruning end, 1 roots, 24 extra nodes, 2 pruned nodes, max_depth=5\u001b[0m\n",
      "\u001b[34m[187]#011train-error:0.0808#011validation-error:0.1351\u001b[0m\n",
      "\u001b[34m[19:33:10] src/tree/updater_prune.cc:74: tree pruning end, 1 roots, 16 extra nodes, 12 pruned nodes, max_depth=5\u001b[0m\n",
      "\u001b[34m[188]#011train-error:0.0802#011validation-error:0.1344\u001b[0m\n",
      "\u001b[34m[19:33:11] src/tree/updater_prune.cc:74: tree pruning end, 1 roots, 12 extra nodes, 18 pruned nodes, max_depth=5\u001b[0m\n",
      "\u001b[34m[189]#011train-error:0.0806#011validation-error:0.1349\u001b[0m\n",
      "\u001b[34m[19:33:13] src/tree/updater_prune.cc:74: tree pruning end, 1 roots, 22 extra nodes, 12 pruned nodes, max_depth=5\u001b[0m\n",
      "\u001b[34m[190]#011train-error:0.0802#011validation-error:0.1338\u001b[0m\n",
      "\u001b[34m[19:33:14] src/tree/updater_prune.cc:74: tree pruning end, 1 roots, 18 extra nodes, 8 pruned nodes, max_depth=5\u001b[0m\n",
      "\u001b[34m[191]#011train-error:0.079133#011validation-error:0.1342\u001b[0m\n",
      "\u001b[34m[19:33:15] src/tree/updater_prune.cc:74: tree pruning end, 1 roots, 12 extra nodes, 14 pruned nodes, max_depth=5\u001b[0m\n",
      "\u001b[34m[192]#011train-error:0.079133#011validation-error:0.1342\u001b[0m\n",
      "\u001b[34m[19:33:17] src/tree/updater_prune.cc:74: tree pruning end, 1 roots, 14 extra nodes, 14 pruned nodes, max_depth=5\u001b[0m\n",
      "\u001b[34m[193]#011train-error:0.079133#011validation-error:0.1342\u001b[0m\n",
      "\u001b[34m[19:33:18] src/tree/updater_prune.cc:74: tree pruning end, 1 roots, 14 extra nodes, 10 pruned nodes, max_depth=5\u001b[0m\n",
      "\u001b[34m[194]#011train-error:0.079067#011validation-error:0.1345\u001b[0m\n",
      "\u001b[34m[19:33:19] src/tree/updater_prune.cc:74: tree pruning end, 1 roots, 16 extra nodes, 10 pruned nodes, max_depth=5\u001b[0m\n",
      "\u001b[34m[195]#011train-error:0.079067#011validation-error:0.135\u001b[0m\n",
      "\u001b[34m[19:33:21] src/tree/updater_prune.cc:74: tree pruning end, 1 roots, 12 extra nodes, 18 pruned nodes, max_depth=5\u001b[0m\n",
      "\u001b[34m[196]#011train-error:0.0786#011validation-error:0.1347\u001b[0m\n",
      "\u001b[34m[19:33:22] src/tree/updater_prune.cc:74: tree pruning end, 1 roots, 18 extra nodes, 6 pruned nodes, max_depth=5\u001b[0m\n",
      "\u001b[34m[197]#011train-error:0.078333#011validation-error:0.1346\u001b[0m\n",
      "\u001b[34m[19:33:23] src/tree/updater_prune.cc:74: tree pruning end, 1 roots, 14 extra nodes, 12 pruned nodes, max_depth=5\u001b[0m\n",
      "\u001b[34m[198]#011train-error:0.078133#011validation-error:0.1342\u001b[0m\n",
      "\u001b[34m[19:33:25] src/tree/updater_prune.cc:74: tree pruning end, 1 roots, 12 extra nodes, 12 pruned nodes, max_depth=5\u001b[0m\n",
      "\u001b[34m[199]#011train-error:0.078333#011validation-error:0.1343\u001b[0m\n",
      "\u001b[34m[19:33:26] src/tree/updater_prune.cc:74: tree pruning end, 1 roots, 12 extra nodes, 4 pruned nodes, max_depth=5\u001b[0m\n",
      "\u001b[34m[200]#011train-error:0.078267#011validation-error:0.1341\u001b[0m\n",
      "\u001b[34mStopping. Best iteration:\u001b[0m\n",
      "\u001b[34m[190]#011train-error:0.0802#011validation-error:0.1338\u001b[0m\n",
      "\n",
      "2023-01-12 19:35:12 Uploading - Uploading generated training model\n",
      "2023-01-12 19:35:32 Completed - Training job completed\n",
      "ProfilerReport-1673551546: NoIssuesFound\n",
      "Training seconds: 475\n",
      "Billable seconds: 475\n"
     ]
    }
   ],
   "source": [
    "xgb.fit({'train': s3_input_train, 'validation': s3_input_validation})"
   ]
  },
  {
   "cell_type": "markdown",
   "metadata": {},
   "source": [
    "### (TODO) Testing the model\n",
    "\n",
    "Now that we've fit our XGBoost model, it's time to see how well it performs. To do this we will use SageMakers Batch Transform functionality. Batch Transform is a convenient way to perform inference on a large dataset in a way that is not realtime. That is, we don't necessarily need to use our model's results immediately and instead we can peform inference on a large number of samples. An example of this in industry might be peforming an end of month report. This method of inference can also be useful to us as it means to can perform inference on our entire test set. \n",
    "\n",
    "To perform a Batch Transformation we need to first create a transformer objects from our trained estimator object."
   ]
  },
  {
   "cell_type": "code",
   "execution_count": 74,
   "metadata": {
    "tags": []
   },
   "outputs": [],
   "source": [
    "# TODO: Create a transformer object from the trained model. \n",
    "# Using an instance count of 1 and an instance type of ml.m4.xlarge should be more than enough.\n",
    "\n",
    "xgb_transformer = None\n",
    "xgb_transformer = xgb.transformer(instance_count = 1, instance_type = 'ml.m4.xlarge')"
   ]
  },
  {
   "cell_type": "markdown",
   "metadata": {},
   "source": [
    "Next we actually perform the transform job. When doing so we need to make sure to specify the type of data we are sending so that it is serialized correctly in the background. In our case we are providing our model with csv data so we specify `text/csv`. Also, if the test data that we have provided is too large to process all at once then we need to specify how the data file should be split up. Since each line is a single entry in our data set we tell SageMaker that it can split the input on each line."
   ]
  },
  {
   "cell_type": "code",
   "execution_count": 75,
   "metadata": {
    "tags": []
   },
   "outputs": [
    {
     "name": "stdout",
     "output_type": "stream",
     "text": [
      ".................................\u001b[34mArguments: serve\u001b[0m\n",
      "\u001b[34m[2023-01-12 19:58:50 +0000] [1] [INFO] Starting gunicorn 19.9.0\u001b[0m\n",
      "\u001b[34m[2023-01-12 19:58:50 +0000] [1] [INFO] Listening at: http://0.0.0.0:8080 (1)\u001b[0m\n",
      "\u001b[34m[2023-01-12 19:58:50 +0000] [1] [INFO] Using worker: gevent\u001b[0m\n",
      "\u001b[34m[2023-01-12 19:58:50 +0000] [20] [INFO] Booting worker with pid: 20\u001b[0m\n",
      "\u001b[34m[2023-01-12 19:58:51 +0000] [21] [INFO] Booting worker with pid: 21\u001b[0m\n",
      "\u001b[34m/opt/amazon/lib/python3.7/site-packages/gunicorn/workers/ggevent.py:65: MonkeyPatchWarning: Monkey-patching ssl after ssl has already been imported may lead to errors, including RecursionError on Python 3.6. It may also silently lead to incorrect behaviour on Python 3.7. Please monkey-patch earlier. See https://github.com/gevent/gevent/issues/1016. Modules that had direct imports (NOT patched): ['urllib3.util.ssl_ (/opt/amazon/lib/python3.7/site-packages/urllib3/util/ssl_.py)', 'urllib3.util (/opt/amazon/lib/python3.7/site-packages/urllib3/util/__init__.py)']. \n",
      "  monkey.patch_all(subprocess=True)\u001b[0m\n",
      "\u001b[34m[2023-01-12:19:58:51:INFO] Model loaded successfully for worker : 20\u001b[0m\n",
      "\u001b[34m[2023-01-12 19:58:51 +0000] [22] [INFO] Booting worker with pid: 22\u001b[0m\n",
      "\u001b[34m/opt/amazon/lib/python3.7/site-packages/gunicorn/workers/ggevent.py:65: MonkeyPatchWarning: Monkey-patching ssl after ssl has already been imported may lead to errors, including RecursionError on Python 3.6. It may also silently lead to incorrect behaviour on Python 3.7. Please monkey-patch earlier. See https://github.com/gevent/gevent/issues/1016. Modules that had direct imports (NOT patched): ['urllib3.util.ssl_ (/opt/amazon/lib/python3.7/site-packages/urllib3/util/ssl_.py)', 'urllib3.util (/opt/amazon/lib/python3.7/site-packages/urllib3/util/__init__.py)']. \n",
      "  monkey.patch_all(subprocess=True)\u001b[0m\n",
      "\u001b[34m[2023-01-12:19:58:51:INFO] Model loaded successfully for worker : 21\u001b[0m\n",
      "\u001b[34m/opt/amazon/lib/python3.7/site-packages/gunicorn/workers/ggevent.py:65: MonkeyPatchWarning: Monkey-patching ssl after ssl has already been imported may lead to errors, including RecursionError on Python 3.6. It may also silently lead to incorrect behaviour on Python 3.7. Please monkey-patch earlier. See https://github.com/gevent/gevent/issues/1016. Modules that had direct imports (NOT patched): ['urllib3.util.ssl_ (/opt/amazon/lib/python3.7/site-packages/urllib3/util/ssl_.py)', 'urllib3.util (/opt/amazon/lib/python3.7/site-packages/urllib3/util/__init__.py)']. \n",
      "  monkey.patch_all(subprocess=True)\u001b[0m\n",
      "\u001b[34m[2023-01-12:19:58:51:INFO] Model loaded successfully for worker : 22\u001b[0m\n",
      "\u001b[34m[2023-01-12 19:58:51 +0000] [23] [INFO] Booting worker with pid: 23\u001b[0m\n",
      "\u001b[34m/opt/amazon/lib/python3.7/site-packages/gunicorn/workers/ggevent.py:65: MonkeyPatchWarning: Monkey-patching ssl after ssl has already been imported may lead to errors, including RecursionError on Python 3.6. It may also silently lead to incorrect behaviour on Python 3.7. Please monkey-patch earlier. See https://github.com/gevent/gevent/issues/1016. Modules that had direct imports (NOT patched): ['urllib3.util.ssl_ (/opt/amazon/lib/python3.7/site-packages/urllib3/util/ssl_.py)', 'urllib3.util (/opt/amazon/lib/python3.7/site-packages/urllib3/util/__init__.py)']. \n",
      "  monkey.patch_all(subprocess=True)\u001b[0m\n",
      "\u001b[34m[2023-01-12:19:58:51:INFO] Model loaded successfully for worker : 23\u001b[0m\n",
      "\u001b[32m2023-01-12T19:58:55.312:[sagemaker logs]: MaxConcurrentTransforms=4, MaxPayloadInMB=6, BatchStrategy=MULTI_RECORD\u001b[0m\n",
      "\u001b[34m[2023-01-12:19:58:59:INFO] Sniff delimiter as ','\u001b[0m\n",
      "\u001b[34m[2023-01-12:19:58:59:INFO] Determined delimiter of CSV input is ','\u001b[0m\n",
      "\u001b[34m[2023-01-12:19:58:59:INFO] Sniff delimiter as ','\u001b[0m\n",
      "\u001b[34m[2023-01-12:19:58:59:INFO] Determined delimiter of CSV input is ','\u001b[0m\n",
      "\u001b[34m[2023-01-12:19:58:59:INFO] Sniff delimiter as ','\u001b[0m\n",
      "\u001b[34m[2023-01-12:19:58:59:INFO] Determined delimiter of CSV input is ','\u001b[0m\n",
      "\u001b[35m[2023-01-12:19:58:59:INFO] Sniff delimiter as ','\u001b[0m\n",
      "\u001b[35m[2023-01-12:19:58:59:INFO] Determined delimiter of CSV input is ','\u001b[0m\n",
      "\u001b[35m[2023-01-12:19:58:59:INFO] Sniff delimiter as ','\u001b[0m\n",
      "\u001b[35m[2023-01-12:19:58:59:INFO] Determined delimiter of CSV input is ','\u001b[0m\n",
      "\u001b[35m[2023-01-12:19:58:59:INFO] Sniff delimiter as ','\u001b[0m\n",
      "\u001b[35m[2023-01-12:19:58:59:INFO] Determined delimiter of CSV input is ','\u001b[0m\n",
      "\u001b[34m[2023-01-12:19:58:59:INFO] Sniff delimiter as ','\u001b[0m\n",
      "\u001b[34m[2023-01-12:19:58:59:INFO] Determined delimiter of CSV input is ','\u001b[0m\n",
      "\u001b[35m[2023-01-12:19:58:59:INFO] Sniff delimiter as ','\u001b[0m\n",
      "\u001b[35m[2023-01-12:19:58:59:INFO] Determined delimiter of CSV input is ','\u001b[0m\n",
      "\u001b[34m[2023-01-12:19:59:03:INFO] Sniff delimiter as ','\u001b[0m\n",
      "\u001b[34m[2023-01-12:19:59:03:INFO] Determined delimiter of CSV input is ','\u001b[0m\n",
      "\u001b[34m[2023-01-12:19:59:03:INFO] Sniff delimiter as ','\u001b[0m\n",
      "\u001b[34m[2023-01-12:19:59:03:INFO] Determined delimiter of CSV input is ','\u001b[0m\n",
      "\u001b[34m[2023-01-12:19:59:03:INFO] Sniff delimiter as ','\u001b[0m\n",
      "\u001b[34m[2023-01-12:19:59:03:INFO] Determined delimiter of CSV input is ','\u001b[0m\n",
      "\u001b[35m[2023-01-12:19:59:03:INFO] Sniff delimiter as ','\u001b[0m\n",
      "\u001b[35m[2023-01-12:19:59:03:INFO] Determined delimiter of CSV input is ','\u001b[0m\n",
      "\u001b[35m[2023-01-12:19:59:03:INFO] Sniff delimiter as ','\u001b[0m\n",
      "\u001b[35m[2023-01-12:19:59:03:INFO] Determined delimiter of CSV input is ','\u001b[0m\n",
      "\u001b[35m[2023-01-12:19:59:03:INFO] Sniff delimiter as ','\u001b[0m\n",
      "\u001b[35m[2023-01-12:19:59:03:INFO] Determined delimiter of CSV input is ','\u001b[0m\n",
      "\u001b[34m[2023-01-12:19:59:03:INFO] Sniff delimiter as ','\u001b[0m\n",
      "\u001b[34m[2023-01-12:19:59:03:INFO] Determined delimiter of CSV input is ','\u001b[0m\n",
      "\u001b[35m[2023-01-12:19:59:03:INFO] Sniff delimiter as ','\u001b[0m\n",
      "\u001b[35m[2023-01-12:19:59:03:INFO] Determined delimiter of CSV input is ','\u001b[0m\n",
      "\u001b[34m[2023-01-12:19:59:07:INFO] Sniff delimiter as ','\u001b[0m\n",
      "\u001b[34m[2023-01-12:19:59:07:INFO] Determined delimiter of CSV input is ','\u001b[0m\n",
      "\u001b[34m[2023-01-12:19:59:07:INFO] Sniff delimiter as ','\u001b[0m\n",
      "\u001b[34m[2023-01-12:19:59:07:INFO] Determined delimiter of CSV input is ','\u001b[0m\n",
      "\u001b[34m[2023-01-12:19:59:07:INFO] Sniff delimiter as ','\u001b[0m\n",
      "\u001b[34m[2023-01-12:19:59:07:INFO] Determined delimiter of CSV input is ','\u001b[0m\n",
      "\u001b[34m[2023-01-12:19:59:07:INFO] Sniff delimiter as ','\u001b[0m\n",
      "\u001b[34m[2023-01-12:19:59:07:INFO] Determined delimiter of CSV input is ','\u001b[0m\n",
      "\u001b[35m[2023-01-12:19:59:07:INFO] Sniff delimiter as ','\u001b[0m\n",
      "\u001b[35m[2023-01-12:19:59:07:INFO] Determined delimiter of CSV input is ','\u001b[0m\n",
      "\u001b[35m[2023-01-12:19:59:07:INFO] Sniff delimiter as ','\u001b[0m\n",
      "\u001b[35m[2023-01-12:19:59:07:INFO] Determined delimiter of CSV input is ','\u001b[0m\n",
      "\u001b[35m[2023-01-12:19:59:07:INFO] Sniff delimiter as ','\u001b[0m\n",
      "\u001b[35m[2023-01-12:19:59:07:INFO] Determined delimiter of CSV input is ','\u001b[0m\n",
      "\u001b[35m[2023-01-12:19:59:07:INFO] Sniff delimiter as ','\u001b[0m\n",
      "\u001b[35m[2023-01-12:19:59:07:INFO] Determined delimiter of CSV input is ','\u001b[0m\n",
      "\u001b[34m[2023-01-12:19:59:14:INFO] Sniff delimiter as ','\u001b[0m\n",
      "\u001b[34m[2023-01-12:19:59:14:INFO] Determined delimiter of CSV input is ','\u001b[0m\n",
      "\u001b[34m[2023-01-12:19:59:14:INFO] Sniff delimiter as ','\u001b[0m\n",
      "\u001b[34m[2023-01-12:19:59:14:INFO] Determined delimiter of CSV input is ','\u001b[0m\n",
      "\u001b[34m[2023-01-12:19:59:14:INFO] Sniff delimiter as ','\u001b[0m\n",
      "\u001b[34m[2023-01-12:19:59:14:INFO] Determined delimiter of CSV input is ','\u001b[0m\n",
      "\u001b[35m[2023-01-12:19:59:14:INFO] Sniff delimiter as ','\u001b[0m\n",
      "\u001b[35m[2023-01-12:19:59:14:INFO] Determined delimiter of CSV input is ','\u001b[0m\n",
      "\u001b[35m[2023-01-12:19:59:14:INFO] Sniff delimiter as ','\u001b[0m\n",
      "\u001b[35m[2023-01-12:19:59:14:INFO] Determined delimiter of CSV input is ','\u001b[0m\n",
      "\u001b[35m[2023-01-12:19:59:14:INFO] Sniff delimiter as ','\u001b[0m\n",
      "\u001b[35m[2023-01-12:19:59:14:INFO] Determined delimiter of CSV input is ','\u001b[0m\n",
      "\u001b[34m[2023-01-12:19:59:15:INFO] Sniff delimiter as ','\u001b[0m\n",
      "\u001b[34m[2023-01-12:19:59:15:INFO] Determined delimiter of CSV input is ','\u001b[0m\n",
      "\u001b[35m[2023-01-12:19:59:15:INFO] Sniff delimiter as ','\u001b[0m\n",
      "\u001b[35m[2023-01-12:19:59:15:INFO] Determined delimiter of CSV input is ','\u001b[0m\n",
      "\u001b[34m[2023-01-12:19:59:18:INFO] Sniff delimiter as ','\u001b[0m\n",
      "\u001b[34m[2023-01-12:19:59:18:INFO] Determined delimiter of CSV input is ','\u001b[0m\n",
      "\u001b[34m[2023-01-12:19:59:18:INFO] Sniff delimiter as ','\u001b[0m\n",
      "\u001b[34m[2023-01-12:19:59:18:INFO] Determined delimiter of CSV input is ','\u001b[0m\n",
      "\u001b[34m[2023-01-12:19:59:18:INFO] Sniff delimiter as ','\u001b[0m\n",
      "\u001b[34m[2023-01-12:19:59:18:INFO] Determined delimiter of CSV input is ','\u001b[0m\n",
      "\u001b[35m[2023-01-12:19:59:18:INFO] Sniff delimiter as ','\u001b[0m\n",
      "\u001b[35m[2023-01-12:19:59:18:INFO] Determined delimiter of CSV input is ','\u001b[0m\n",
      "\u001b[35m[2023-01-12:19:59:18:INFO] Sniff delimiter as ','\u001b[0m\n",
      "\u001b[35m[2023-01-12:19:59:18:INFO] Determined delimiter of CSV input is ','\u001b[0m\n",
      "\u001b[35m[2023-01-12:19:59:18:INFO] Sniff delimiter as ','\u001b[0m\n",
      "\u001b[35m[2023-01-12:19:59:18:INFO] Determined delimiter of CSV input is ','\u001b[0m\n",
      "\u001b[34m[2023-01-12:19:59:19:INFO] Sniff delimiter as ','\u001b[0m\n",
      "\u001b[34m[2023-01-12:19:59:19:INFO] Determined delimiter of CSV input is ','\u001b[0m\n",
      "\u001b[35m[2023-01-12:19:59:19:INFO] Sniff delimiter as ','\u001b[0m\n",
      "\u001b[35m[2023-01-12:19:59:19:INFO] Determined delimiter of CSV input is ','\u001b[0m\n",
      "\u001b[34m[2023-01-12:19:59:22:INFO] Sniff delimiter as ','\u001b[0m\n",
      "\u001b[34m[2023-01-12:19:59:22:INFO] Determined delimiter of CSV input is ','\u001b[0m\n",
      "\u001b[35m[2023-01-12:19:59:22:INFO] Sniff delimiter as ','\u001b[0m\n",
      "\u001b[35m[2023-01-12:19:59:22:INFO] Determined delimiter of CSV input is ','\u001b[0m\n",
      "\u001b[34m[2023-01-12:19:59:22:INFO] Sniff delimiter as ','\u001b[0m\n",
      "\u001b[34m[2023-01-12:19:59:22:INFO] Determined delimiter of CSV input is ','\u001b[0m\n",
      "\u001b[34m[2023-01-12:19:59:22:INFO] Sniff delimiter as ','\u001b[0m\n",
      "\u001b[34m[2023-01-12:19:59:22:INFO] Determined delimiter of CSV input is ','\u001b[0m\n",
      "\u001b[35m[2023-01-12:19:59:22:INFO] Sniff delimiter as ','\u001b[0m\n",
      "\u001b[35m[2023-01-12:19:59:22:INFO] Determined delimiter of CSV input is ','\u001b[0m\n",
      "\u001b[35m[2023-01-12:19:59:22:INFO] Sniff delimiter as ','\u001b[0m\n",
      "\u001b[35m[2023-01-12:19:59:22:INFO] Determined delimiter of CSV input is ','\u001b[0m\n",
      "\u001b[34m[2023-01-12:19:59:26:INFO] Sniff delimiter as ','\u001b[0m\n",
      "\u001b[34m[2023-01-12:19:59:26:INFO] Determined delimiter of CSV input is ','\u001b[0m\n",
      "\u001b[34m[2023-01-12:19:59:26:INFO] Sniff delimiter as ','\u001b[0m\n",
      "\u001b[34m[2023-01-12:19:59:26:INFO] Determined delimiter of CSV input is ','\u001b[0m\n",
      "\u001b[35m[2023-01-12:19:59:26:INFO] Sniff delimiter as ','\u001b[0m\n",
      "\u001b[35m[2023-01-12:19:59:26:INFO] Determined delimiter of CSV input is ','\u001b[0m\n",
      "\u001b[35m[2023-01-12:19:59:26:INFO] Sniff delimiter as ','\u001b[0m\n",
      "\u001b[35m[2023-01-12:19:59:26:INFO] Determined delimiter of CSV input is ','\u001b[0m\n",
      "\u001b[34m[2023-01-12:19:59:27:INFO] Sniff delimiter as ','\u001b[0m\n",
      "\u001b[34m[2023-01-12:19:59:27:INFO] Determined delimiter of CSV input is ','\u001b[0m\n",
      "\u001b[35m[2023-01-12:19:59:27:INFO] Sniff delimiter as ','\u001b[0m\n",
      "\u001b[35m[2023-01-12:19:59:27:INFO] Determined delimiter of CSV input is ','\u001b[0m\n",
      "\u001b[34m[2023-01-12:19:59:30:INFO] Sniff delimiter as ','\u001b[0m\n",
      "\u001b[34m[2023-01-12:19:59:30:INFO] Determined delimiter of CSV input is ','\u001b[0m\n",
      "\u001b[34m[2023-01-12:19:59:30:INFO] Sniff delimiter as ','\u001b[0m\n",
      "\u001b[34m[2023-01-12:19:59:30:INFO] Determined delimiter of CSV input is ','\u001b[0m\n",
      "\u001b[34m[2023-01-12:19:59:30:INFO] Sniff delimiter as ','\u001b[0m\n",
      "\u001b[34m[2023-01-12:19:59:30:INFO] Determined delimiter of CSV input is ','\u001b[0m\n",
      "\u001b[35m[2023-01-12:19:59:30:INFO] Sniff delimiter as ','\u001b[0m\n",
      "\u001b[35m[2023-01-12:19:59:30:INFO] Determined delimiter of CSV input is ','\u001b[0m\n",
      "\u001b[35m[2023-01-12:19:59:30:INFO] Sniff delimiter as ','\u001b[0m\n",
      "\u001b[35m[2023-01-12:19:59:30:INFO] Determined delimiter of CSV input is ','\u001b[0m\n",
      "\u001b[35m[2023-01-12:19:59:30:INFO] Sniff delimiter as ','\u001b[0m\n",
      "\u001b[35m[2023-01-12:19:59:30:INFO] Determined delimiter of CSV input is ','\u001b[0m\n",
      "\u001b[34m[2023-01-12:19:59:31:INFO] Sniff delimiter as ','\u001b[0m\n",
      "\u001b[34m[2023-01-12:19:59:31:INFO] Determined delimiter of CSV input is ','\u001b[0m\n",
      "\u001b[35m[2023-01-12:19:59:31:INFO] Sniff delimiter as ','\u001b[0m\n",
      "\u001b[35m[2023-01-12:19:59:31:INFO] Determined delimiter of CSV input is ','\u001b[0m\n",
      "\u001b[34m[2023-01-12:19:59:33:INFO] Sniff delimiter as ','\u001b[0m\n",
      "\u001b[34m[2023-01-12:19:59:33:INFO] Determined delimiter of CSV input is ','\u001b[0m\n",
      "\u001b[34m[2023-01-12:19:59:34:INFO] Sniff delimiter as ','\u001b[0m\n",
      "\u001b[34m[2023-01-12:19:59:34:INFO] Determined delimiter of CSV input is ','\u001b[0m\n",
      "\u001b[34m[2023-01-12:19:59:34:INFO] Sniff delimiter as ','\u001b[0m\n",
      "\u001b[34m[2023-01-12:19:59:34:INFO] Determined delimiter of CSV input is ','\u001b[0m\n",
      "\u001b[34m[2023-01-12:19:59:34:INFO] Sniff delimiter as ','\u001b[0m\n",
      "\u001b[34m[2023-01-12:19:59:34:INFO] Determined delimiter of CSV input is ','\u001b[0m\n",
      "\u001b[35m[2023-01-12:19:59:33:INFO] Sniff delimiter as ','\u001b[0m\n",
      "\u001b[35m[2023-01-12:19:59:33:INFO] Determined delimiter of CSV input is ','\u001b[0m\n",
      "\u001b[35m[2023-01-12:19:59:34:INFO] Sniff delimiter as ','\u001b[0m\n",
      "\u001b[35m[2023-01-12:19:59:34:INFO] Determined delimiter of CSV input is ','\u001b[0m\n",
      "\u001b[35m[2023-01-12:19:59:34:INFO] Sniff delimiter as ','\u001b[0m\n",
      "\u001b[35m[2023-01-12:19:59:34:INFO] Determined delimiter of CSV input is ','\u001b[0m\n",
      "\u001b[35m[2023-01-12:19:59:34:INFO] Sniff delimiter as ','\u001b[0m\n",
      "\u001b[35m[2023-01-12:19:59:34:INFO] Determined delimiter of CSV input is ','\u001b[0m\n",
      "\n"
     ]
    }
   ],
   "source": [
    "# TODO: Start the transform job. Make sure to specify the content type and the split type of the test data.\n",
    "xgb_transformer.transform(test_location, content_type='text/csv', split_type='Line')"
   ]
  },
  {
   "cell_type": "markdown",
   "metadata": {},
   "source": [
    "Currently the transform job is running but it is doing so in the background. Since we wish to wait until the transform job is done and we would like a bit of feedback we can run the `wait()` method."
   ]
  },
  {
   "cell_type": "code",
   "execution_count": 76,
   "metadata": {
    "tags": []
   },
   "outputs": [
    {
     "name": "stdout",
     "output_type": "stream",
     "text": [
      "\u001b[34mArguments: serve\u001b[0m\n",
      "\u001b[34m[2023-01-12 19:58:50 +0000] [1] [INFO] Starting gunicorn 19.9.0\u001b[0m\n",
      "\u001b[34m[2023-01-12 19:58:50 +0000] [1] [INFO] Listening at: http://0.0.0.0:8080 (1)\u001b[0m\n",
      "\u001b[34m[2023-01-12 19:58:50 +0000] [1] [INFO] Using worker: gevent\u001b[0m\n",
      "\u001b[34m[2023-01-12 19:58:50 +0000] [20] [INFO] Booting worker with pid: 20\u001b[0m\n",
      "\u001b[34m[2023-01-12 19:58:51 +0000] [21] [INFO] Booting worker with pid: 21\u001b[0m\n",
      "\u001b[34m/opt/amazon/lib/python3.7/site-packages/gunicorn/workers/ggevent.py:65: MonkeyPatchWarning: Monkey-patching ssl after ssl has already been imported may lead to errors, including RecursionError on Python 3.6. It may also silently lead to incorrect behaviour on Python 3.7. Please monkey-patch earlier. See https://github.com/gevent/gevent/issues/1016. Modules that had direct imports (NOT patched): ['urllib3.util.ssl_ (/opt/amazon/lib/python3.7/site-packages/urllib3/util/ssl_.py)', 'urllib3.util (/opt/amazon/lib/python3.7/site-packages/urllib3/util/__init__.py)']. \n",
      "  monkey.patch_all(subprocess=True)\u001b[0m\n",
      "\u001b[34m[2023-01-12:19:58:51:INFO] Model loaded successfully for worker : 20\u001b[0m\n",
      "\u001b[34m[2023-01-12 19:58:51 +0000] [22] [INFO] Booting worker with pid: 22\u001b[0m\n",
      "\u001b[34m/opt/amazon/lib/python3.7/site-packages/gunicorn/workers/ggevent.py:65: MonkeyPatchWarning: Monkey-patching ssl after ssl has already been imported may lead to errors, including RecursionError on Python 3.6. It may also silently lead to incorrect behaviour on Python 3.7. Please monkey-patch earlier. See https://github.com/gevent/gevent/issues/1016. Modules that had direct imports (NOT patched): ['urllib3.util.ssl_ (/opt/amazon/lib/python3.7/site-packages/urllib3/util/ssl_.py)', 'urllib3.util (/opt/amazon/lib/python3.7/site-packages/urllib3/util/__init__.py)']. \n",
      "  monkey.patch_all(subprocess=True)\u001b[0m\n",
      "\u001b[35mArguments: serve\u001b[0m\n",
      "\u001b[35m[2023-01-12 19:58:50 +0000] [1] [INFO] Starting gunicorn 19.9.0\u001b[0m\n",
      "\u001b[35m[2023-01-12 19:58:50 +0000] [1] [INFO] Listening at: http://0.0.0.0:8080 (1)\u001b[0m\n",
      "\u001b[35m[2023-01-12 19:58:50 +0000] [1] [INFO] Using worker: gevent\u001b[0m\n",
      "\u001b[35m[2023-01-12 19:58:50 +0000] [20] [INFO] Booting worker with pid: 20\u001b[0m\n",
      "\u001b[35m[2023-01-12 19:58:51 +0000] [21] [INFO] Booting worker with pid: 21\u001b[0m\n",
      "\u001b[35m/opt/amazon/lib/python3.7/site-packages/gunicorn/workers/ggevent.py:65: MonkeyPatchWarning: Monkey-patching ssl after ssl has already been imported may lead to errors, including RecursionError on Python 3.6. It may also silently lead to incorrect behaviour on Python 3.7. Please monkey-patch earlier. See https://github.com/gevent/gevent/issues/1016. Modules that had direct imports (NOT patched): ['urllib3.util.ssl_ (/opt/amazon/lib/python3.7/site-packages/urllib3/util/ssl_.py)', 'urllib3.util (/opt/amazon/lib/python3.7/site-packages/urllib3/util/__init__.py)']. \n",
      "  monkey.patch_all(subprocess=True)\u001b[0m\n",
      "\u001b[35m[2023-01-12:19:58:51:INFO] Model loaded successfully for worker : 20\u001b[0m\n",
      "\u001b[35m[2023-01-12 19:58:51 +0000] [22] [INFO] Booting worker with pid: 22\u001b[0m\n",
      "\u001b[35m/opt/amazon/lib/python3.7/site-packages/gunicorn/workers/ggevent.py:65: MonkeyPatchWarning: Monkey-patching ssl after ssl has already been imported may lead to errors, including RecursionError on Python 3.6. It may also silently lead to incorrect behaviour on Python 3.7. Please monkey-patch earlier. See https://github.com/gevent/gevent/issues/1016. Modules that had direct imports (NOT patched): ['urllib3.util.ssl_ (/opt/amazon/lib/python3.7/site-packages/urllib3/util/ssl_.py)', 'urllib3.util (/opt/amazon/lib/python3.7/site-packages/urllib3/util/__init__.py)']. \n",
      "  monkey.patch_all(subprocess=True)\u001b[0m\n",
      "\u001b[34m[2023-01-12:19:58:51:INFO] Model loaded successfully for worker : 21\u001b[0m\n",
      "\u001b[34m/opt/amazon/lib/python3.7/site-packages/gunicorn/workers/ggevent.py:65: MonkeyPatchWarning: Monkey-patching ssl after ssl has already been imported may lead to errors, including RecursionError on Python 3.6. It may also silently lead to incorrect behaviour on Python 3.7. Please monkey-patch earlier. See https://github.com/gevent/gevent/issues/1016. Modules that had direct imports (NOT patched): ['urllib3.util.ssl_ (/opt/amazon/lib/python3.7/site-packages/urllib3/util/ssl_.py)', 'urllib3.util (/opt/amazon/lib/python3.7/site-packages/urllib3/util/__init__.py)']. \n",
      "  monkey.patch_all(subprocess=True)\u001b[0m\n",
      "\u001b[34m[2023-01-12:19:58:51:INFO] Model loaded successfully for worker : 22\u001b[0m\n",
      "\u001b[34m[2023-01-12 19:58:51 +0000] [23] [INFO] Booting worker with pid: 23\u001b[0m\n",
      "\u001b[34m/opt/amazon/lib/python3.7/site-packages/gunicorn/workers/ggevent.py:65: MonkeyPatchWarning: Monkey-patching ssl after ssl has already been imported may lead to errors, including RecursionError on Python 3.6. It may also silently lead to incorrect behaviour on Python 3.7. Please monkey-patch earlier. See https://github.com/gevent/gevent/issues/1016. Modules that had direct imports (NOT patched): ['urllib3.util.ssl_ (/opt/amazon/lib/python3.7/site-packages/urllib3/util/ssl_.py)', 'urllib3.util (/opt/amazon/lib/python3.7/site-packages/urllib3/util/__init__.py)']. \n",
      "  monkey.patch_all(subprocess=True)\u001b[0m\n",
      "\u001b[34m[2023-01-12:19:58:51:INFO] Model loaded successfully for worker : 23\u001b[0m\n",
      "\u001b[35m[2023-01-12:19:58:51:INFO] Model loaded successfully for worker : 21\u001b[0m\n",
      "\u001b[35m/opt/amazon/lib/python3.7/site-packages/gunicorn/workers/ggevent.py:65: MonkeyPatchWarning: Monkey-patching ssl after ssl has already been imported may lead to errors, including RecursionError on Python 3.6. It may also silently lead to incorrect behaviour on Python 3.7. Please monkey-patch earlier. See https://github.com/gevent/gevent/issues/1016. Modules that had direct imports (NOT patched): ['urllib3.util.ssl_ (/opt/amazon/lib/python3.7/site-packages/urllib3/util/ssl_.py)', 'urllib3.util (/opt/amazon/lib/python3.7/site-packages/urllib3/util/__init__.py)']. \n",
      "  monkey.patch_all(subprocess=True)\u001b[0m\n",
      "\u001b[35m[2023-01-12:19:58:51:INFO] Model loaded successfully for worker : 22\u001b[0m\n",
      "\u001b[35m[2023-01-12 19:58:51 +0000] [23] [INFO] Booting worker with pid: 23\u001b[0m\n",
      "\u001b[35m/opt/amazon/lib/python3.7/site-packages/gunicorn/workers/ggevent.py:65: MonkeyPatchWarning: Monkey-patching ssl after ssl has already been imported may lead to errors, including RecursionError on Python 3.6. It may also silently lead to incorrect behaviour on Python 3.7. Please monkey-patch earlier. See https://github.com/gevent/gevent/issues/1016. Modules that had direct imports (NOT patched): ['urllib3.util.ssl_ (/opt/amazon/lib/python3.7/site-packages/urllib3/util/ssl_.py)', 'urllib3.util (/opt/amazon/lib/python3.7/site-packages/urllib3/util/__init__.py)']. \n",
      "  monkey.patch_all(subprocess=True)\u001b[0m\n",
      "\u001b[35m[2023-01-12:19:58:51:INFO] Model loaded successfully for worker : 23\u001b[0m\n",
      "\u001b[32m2023-01-12T19:58:55.312:[sagemaker logs]: MaxConcurrentTransforms=4, MaxPayloadInMB=6, BatchStrategy=MULTI_RECORD\u001b[0m\n",
      "\u001b[34m[2023-01-12:19:58:59:INFO] Sniff delimiter as ','\u001b[0m\n",
      "\u001b[34m[2023-01-12:19:58:59:INFO] Determined delimiter of CSV input is ','\u001b[0m\n",
      "\u001b[34m[2023-01-12:19:58:59:INFO] Sniff delimiter as ','\u001b[0m\n",
      "\u001b[34m[2023-01-12:19:58:59:INFO] Determined delimiter of CSV input is ','\u001b[0m\n",
      "\u001b[34m[2023-01-12:19:58:59:INFO] Sniff delimiter as ','\u001b[0m\n",
      "\u001b[34m[2023-01-12:19:58:59:INFO] Determined delimiter of CSV input is ','\u001b[0m\n",
      "\u001b[35m[2023-01-12:19:58:59:INFO] Sniff delimiter as ','\u001b[0m\n",
      "\u001b[35m[2023-01-12:19:58:59:INFO] Determined delimiter of CSV input is ','\u001b[0m\n",
      "\u001b[35m[2023-01-12:19:58:59:INFO] Sniff delimiter as ','\u001b[0m\n",
      "\u001b[35m[2023-01-12:19:58:59:INFO] Determined delimiter of CSV input is ','\u001b[0m\n",
      "\u001b[35m[2023-01-12:19:58:59:INFO] Sniff delimiter as ','\u001b[0m\n",
      "\u001b[35m[2023-01-12:19:58:59:INFO] Determined delimiter of CSV input is ','\u001b[0m\n",
      "\u001b[34m[2023-01-12:19:58:59:INFO] Sniff delimiter as ','\u001b[0m\n",
      "\u001b[34m[2023-01-12:19:58:59:INFO] Determined delimiter of CSV input is ','\u001b[0m\n",
      "\u001b[35m[2023-01-12:19:58:59:INFO] Sniff delimiter as ','\u001b[0m\n",
      "\u001b[35m[2023-01-12:19:58:59:INFO] Determined delimiter of CSV input is ','\u001b[0m\n",
      "\u001b[34m[2023-01-12:19:59:03:INFO] Sniff delimiter as ','\u001b[0m\n",
      "\u001b[34m[2023-01-12:19:59:03:INFO] Determined delimiter of CSV input is ','\u001b[0m\n",
      "\u001b[34m[2023-01-12:19:59:03:INFO] Sniff delimiter as ','\u001b[0m\n",
      "\u001b[34m[2023-01-12:19:59:03:INFO] Determined delimiter of CSV input is ','\u001b[0m\n",
      "\u001b[34m[2023-01-12:19:59:03:INFO] Sniff delimiter as ','\u001b[0m\n",
      "\u001b[34m[2023-01-12:19:59:03:INFO] Determined delimiter of CSV input is ','\u001b[0m\n",
      "\u001b[35m[2023-01-12:19:59:03:INFO] Sniff delimiter as ','\u001b[0m\n",
      "\u001b[35m[2023-01-12:19:59:03:INFO] Determined delimiter of CSV input is ','\u001b[0m\n",
      "\u001b[35m[2023-01-12:19:59:03:INFO] Sniff delimiter as ','\u001b[0m\n",
      "\u001b[35m[2023-01-12:19:59:03:INFO] Determined delimiter of CSV input is ','\u001b[0m\n",
      "\u001b[35m[2023-01-12:19:59:03:INFO] Sniff delimiter as ','\u001b[0m\n",
      "\u001b[35m[2023-01-12:19:59:03:INFO] Determined delimiter of CSV input is ','\u001b[0m\n",
      "\u001b[34m[2023-01-12:19:59:03:INFO] Sniff delimiter as ','\u001b[0m\n",
      "\u001b[34m[2023-01-12:19:59:03:INFO] Determined delimiter of CSV input is ','\u001b[0m\n",
      "\u001b[35m[2023-01-12:19:59:03:INFO] Sniff delimiter as ','\u001b[0m\n",
      "\u001b[35m[2023-01-12:19:59:03:INFO] Determined delimiter of CSV input is ','\u001b[0m\n",
      "\u001b[34m[2023-01-12:19:59:07:INFO] Sniff delimiter as ','\u001b[0m\n",
      "\u001b[34m[2023-01-12:19:59:07:INFO] Determined delimiter of CSV input is ','\u001b[0m\n",
      "\u001b[34m[2023-01-12:19:59:07:INFO] Sniff delimiter as ','\u001b[0m\n",
      "\u001b[34m[2023-01-12:19:59:07:INFO] Determined delimiter of CSV input is ','\u001b[0m\n",
      "\u001b[34m[2023-01-12:19:59:07:INFO] Sniff delimiter as ','\u001b[0m\n",
      "\u001b[34m[2023-01-12:19:59:07:INFO] Determined delimiter of CSV input is ','\u001b[0m\n",
      "\u001b[34m[2023-01-12:19:59:07:INFO] Sniff delimiter as ','\u001b[0m\n",
      "\u001b[34m[2023-01-12:19:59:07:INFO] Determined delimiter of CSV input is ','\u001b[0m\n",
      "\u001b[35m[2023-01-12:19:59:07:INFO] Sniff delimiter as ','\u001b[0m\n",
      "\u001b[35m[2023-01-12:19:59:07:INFO] Determined delimiter of CSV input is ','\u001b[0m\n",
      "\u001b[35m[2023-01-12:19:59:07:INFO] Sniff delimiter as ','\u001b[0m\n",
      "\u001b[35m[2023-01-12:19:59:07:INFO] Determined delimiter of CSV input is ','\u001b[0m\n",
      "\u001b[35m[2023-01-12:19:59:07:INFO] Sniff delimiter as ','\u001b[0m\n",
      "\u001b[35m[2023-01-12:19:59:07:INFO] Determined delimiter of CSV input is ','\u001b[0m\n",
      "\u001b[35m[2023-01-12:19:59:07:INFO] Sniff delimiter as ','\u001b[0m\n",
      "\u001b[35m[2023-01-12:19:59:07:INFO] Determined delimiter of CSV input is ','\u001b[0m\n",
      "\u001b[34m[2023-01-12:19:59:10:INFO] Sniff delimiter as ','\u001b[0m\n",
      "\u001b[34m[2023-01-12:19:59:10:INFO] Determined delimiter of CSV input is ','\u001b[0m\n",
      "\u001b[34m[2023-01-12:19:59:10:INFO] Sniff delimiter as ','\u001b[0m\n",
      "\u001b[34m[2023-01-12:19:59:10:INFO] Determined delimiter of CSV input is ','\u001b[0m\n",
      "\u001b[34m[2023-01-12:19:59:11:INFO] Sniff delimiter as ','\u001b[0m\n",
      "\u001b[34m[2023-01-12:19:59:11:INFO] Determined delimiter of CSV input is ','\u001b[0m\n",
      "\u001b[34m[2023-01-12:19:59:11:INFO] Sniff delimiter as ','\u001b[0m\n",
      "\u001b[35m[2023-01-12:19:59:10:INFO] Sniff delimiter as ','\u001b[0m\n",
      "\u001b[35m[2023-01-12:19:59:10:INFO] Determined delimiter of CSV input is ','\u001b[0m\n",
      "\u001b[35m[2023-01-12:19:59:10:INFO] Sniff delimiter as ','\u001b[0m\n",
      "\u001b[35m[2023-01-12:19:59:10:INFO] Determined delimiter of CSV input is ','\u001b[0m\n",
      "\u001b[35m[2023-01-12:19:59:11:INFO] Sniff delimiter as ','\u001b[0m\n",
      "\u001b[35m[2023-01-12:19:59:11:INFO] Determined delimiter of CSV input is ','\u001b[0m\n",
      "\u001b[35m[2023-01-12:19:59:11:INFO] Sniff delimiter as ','\u001b[0m\n",
      "\u001b[34m[2023-01-12:19:59:11:INFO] Determined delimiter of CSV input is ','\u001b[0m\n",
      "\u001b[35m[2023-01-12:19:59:11:INFO] Determined delimiter of CSV input is ','\u001b[0m\n",
      "\u001b[34m[2023-01-12:19:59:14:INFO] Sniff delimiter as ','\u001b[0m\n",
      "\u001b[34m[2023-01-12:19:59:14:INFO] Determined delimiter of CSV input is ','\u001b[0m\n",
      "\u001b[34m[2023-01-12:19:59:14:INFO] Sniff delimiter as ','\u001b[0m\n",
      "\u001b[34m[2023-01-12:19:59:14:INFO] Determined delimiter of CSV input is ','\u001b[0m\n",
      "\u001b[34m[2023-01-12:19:59:14:INFO] Sniff delimiter as ','\u001b[0m\n",
      "\u001b[34m[2023-01-12:19:59:14:INFO] Determined delimiter of CSV input is ','\u001b[0m\n",
      "\u001b[35m[2023-01-12:19:59:14:INFO] Sniff delimiter as ','\u001b[0m\n",
      "\u001b[35m[2023-01-12:19:59:14:INFO] Determined delimiter of CSV input is ','\u001b[0m\n",
      "\u001b[35m[2023-01-12:19:59:14:INFO] Sniff delimiter as ','\u001b[0m\n",
      "\u001b[35m[2023-01-12:19:59:14:INFO] Determined delimiter of CSV input is ','\u001b[0m\n",
      "\u001b[35m[2023-01-12:19:59:14:INFO] Sniff delimiter as ','\u001b[0m\n",
      "\u001b[35m[2023-01-12:19:59:14:INFO] Determined delimiter of CSV input is ','\u001b[0m\n",
      "\u001b[34m[2023-01-12:19:59:15:INFO] Sniff delimiter as ','\u001b[0m\n",
      "\u001b[34m[2023-01-12:19:59:15:INFO] Determined delimiter of CSV input is ','\u001b[0m\n",
      "\u001b[35m[2023-01-12:19:59:15:INFO] Sniff delimiter as ','\u001b[0m\n",
      "\u001b[35m[2023-01-12:19:59:15:INFO] Determined delimiter of CSV input is ','\u001b[0m\n",
      "\u001b[34m[2023-01-12:19:59:18:INFO] Sniff delimiter as ','\u001b[0m\n",
      "\u001b[34m[2023-01-12:19:59:18:INFO] Determined delimiter of CSV input is ','\u001b[0m\n",
      "\u001b[34m[2023-01-12:19:59:18:INFO] Sniff delimiter as ','\u001b[0m\n",
      "\u001b[34m[2023-01-12:19:59:18:INFO] Determined delimiter of CSV input is ','\u001b[0m\n",
      "\u001b[34m[2023-01-12:19:59:18:INFO] Sniff delimiter as ','\u001b[0m\n",
      "\u001b[34m[2023-01-12:19:59:18:INFO] Determined delimiter of CSV input is ','\u001b[0m\n",
      "\u001b[35m[2023-01-12:19:59:18:INFO] Sniff delimiter as ','\u001b[0m\n",
      "\u001b[35m[2023-01-12:19:59:18:INFO] Determined delimiter of CSV input is ','\u001b[0m\n",
      "\u001b[35m[2023-01-12:19:59:18:INFO] Sniff delimiter as ','\u001b[0m\n",
      "\u001b[35m[2023-01-12:19:59:18:INFO] Determined delimiter of CSV input is ','\u001b[0m\n",
      "\u001b[35m[2023-01-12:19:59:18:INFO] Sniff delimiter as ','\u001b[0m\n",
      "\u001b[35m[2023-01-12:19:59:18:INFO] Determined delimiter of CSV input is ','\u001b[0m\n",
      "\u001b[34m[2023-01-12:19:59:19:INFO] Sniff delimiter as ','\u001b[0m\n",
      "\u001b[34m[2023-01-12:19:59:19:INFO] Determined delimiter of CSV input is ','\u001b[0m\n",
      "\u001b[35m[2023-01-12:19:59:19:INFO] Sniff delimiter as ','\u001b[0m\n",
      "\u001b[35m[2023-01-12:19:59:19:INFO] Determined delimiter of CSV input is ','\u001b[0m\n",
      "\u001b[34m[2023-01-12:19:59:22:INFO] Sniff delimiter as ','\u001b[0m\n",
      "\u001b[34m[2023-01-12:19:59:22:INFO] Determined delimiter of CSV input is ','\u001b[0m\n",
      "\u001b[35m[2023-01-12:19:59:22:INFO] Sniff delimiter as ','\u001b[0m\n",
      "\u001b[35m[2023-01-12:19:59:22:INFO] Determined delimiter of CSV input is ','\u001b[0m\n",
      "\u001b[34m[2023-01-12:19:59:22:INFO] Sniff delimiter as ','\u001b[0m\n",
      "\u001b[34m[2023-01-12:19:59:22:INFO] Determined delimiter of CSV input is ','\u001b[0m\n",
      "\u001b[34m[2023-01-12:19:59:22:INFO] Sniff delimiter as ','\u001b[0m\n",
      "\u001b[34m[2023-01-12:19:59:22:INFO] Determined delimiter of CSV input is ','\u001b[0m\n",
      "\u001b[35m[2023-01-12:19:59:22:INFO] Sniff delimiter as ','\u001b[0m\n",
      "\u001b[35m[2023-01-12:19:59:22:INFO] Determined delimiter of CSV input is ','\u001b[0m\n",
      "\u001b[35m[2023-01-12:19:59:22:INFO] Sniff delimiter as ','\u001b[0m\n",
      "\u001b[35m[2023-01-12:19:59:22:INFO] Determined delimiter of CSV input is ','\u001b[0m\n",
      "\u001b[34m[2023-01-12:19:59:23:INFO] Sniff delimiter as ','\u001b[0m\n",
      "\u001b[34m[2023-01-12:19:59:23:INFO] Determined delimiter of CSV input is ','\u001b[0m\n",
      "\u001b[35m[2023-01-12:19:59:23:INFO] Sniff delimiter as ','\u001b[0m\n",
      "\u001b[35m[2023-01-12:19:59:23:INFO] Determined delimiter of CSV input is ','\u001b[0m\n",
      "\u001b[34m[2023-01-12:19:59:26:INFO] Sniff delimiter as ','\u001b[0m\n",
      "\u001b[35m[2023-01-12:19:59:26:INFO] Sniff delimiter as ','\u001b[0m\n",
      "\u001b[34m[2023-01-12:19:59:26:INFO] Determined delimiter of CSV input is ','\u001b[0m\n",
      "\u001b[34m[2023-01-12:19:59:26:INFO] Sniff delimiter as ','\u001b[0m\n",
      "\u001b[34m[2023-01-12:19:59:26:INFO] Determined delimiter of CSV input is ','\u001b[0m\n",
      "\u001b[34m[2023-01-12:19:59:26:INFO] Sniff delimiter as ','\u001b[0m\n",
      "\u001b[34m[2023-01-12:19:59:26:INFO] Determined delimiter of CSV input is ','\u001b[0m\n",
      "\u001b[35m[2023-01-12:19:59:26:INFO] Determined delimiter of CSV input is ','\u001b[0m\n",
      "\u001b[35m[2023-01-12:19:59:26:INFO] Sniff delimiter as ','\u001b[0m\n",
      "\u001b[35m[2023-01-12:19:59:26:INFO] Determined delimiter of CSV input is ','\u001b[0m\n",
      "\u001b[35m[2023-01-12:19:59:26:INFO] Sniff delimiter as ','\u001b[0m\n",
      "\u001b[35m[2023-01-12:19:59:26:INFO] Determined delimiter of CSV input is ','\u001b[0m\n",
      "\u001b[34m[2023-01-12:19:59:27:INFO] Sniff delimiter as ','\u001b[0m\n",
      "\u001b[34m[2023-01-12:19:59:27:INFO] Determined delimiter of CSV input is ','\u001b[0m\n",
      "\u001b[35m[2023-01-12:19:59:27:INFO] Sniff delimiter as ','\u001b[0m\n",
      "\u001b[35m[2023-01-12:19:59:27:INFO] Determined delimiter of CSV input is ','\u001b[0m\n",
      "\u001b[34m[2023-01-12:19:59:30:INFO] Sniff delimiter as ','\u001b[0m\n",
      "\u001b[34m[2023-01-12:19:59:30:INFO] Determined delimiter of CSV input is ','\u001b[0m\n",
      "\u001b[34m[2023-01-12:19:59:30:INFO] Sniff delimiter as ','\u001b[0m\n",
      "\u001b[34m[2023-01-12:19:59:30:INFO] Determined delimiter of CSV input is ','\u001b[0m\n",
      "\u001b[34m[2023-01-12:19:59:30:INFO] Sniff delimiter as ','\u001b[0m\n",
      "\u001b[34m[2023-01-12:19:59:30:INFO] Determined delimiter of CSV input is ','\u001b[0m\n",
      "\u001b[35m[2023-01-12:19:59:30:INFO] Sniff delimiter as ','\u001b[0m\n",
      "\u001b[35m[2023-01-12:19:59:30:INFO] Determined delimiter of CSV input is ','\u001b[0m\n",
      "\u001b[35m[2023-01-12:19:59:30:INFO] Sniff delimiter as ','\u001b[0m\n",
      "\u001b[35m[2023-01-12:19:59:30:INFO] Determined delimiter of CSV input is ','\u001b[0m\n",
      "\u001b[35m[2023-01-12:19:59:30:INFO] Sniff delimiter as ','\u001b[0m\n",
      "\u001b[35m[2023-01-12:19:59:30:INFO] Determined delimiter of CSV input is ','\u001b[0m\n",
      "\u001b[34m[2023-01-12:19:59:31:INFO] Sniff delimiter as ','\u001b[0m\n",
      "\u001b[34m[2023-01-12:19:59:31:INFO] Determined delimiter of CSV input is ','\u001b[0m\n",
      "\u001b[35m[2023-01-12:19:59:31:INFO] Sniff delimiter as ','\u001b[0m\n",
      "\u001b[35m[2023-01-12:19:59:31:INFO] Determined delimiter of CSV input is ','\u001b[0m\n",
      "\u001b[34m[2023-01-12:19:59:33:INFO] Sniff delimiter as ','\u001b[0m\n",
      "\u001b[34m[2023-01-12:19:59:33:INFO] Determined delimiter of CSV input is ','\u001b[0m\n",
      "\u001b[34m[2023-01-12:19:59:34:INFO] Sniff delimiter as ','\u001b[0m\n",
      "\u001b[34m[2023-01-12:19:59:34:INFO] Determined delimiter of CSV input is ','\u001b[0m\n",
      "\u001b[34m[2023-01-12:19:59:34:INFO] Sniff delimiter as ','\u001b[0m\n",
      "\u001b[34m[2023-01-12:19:59:34:INFO] Determined delimiter of CSV input is ','\u001b[0m\n",
      "\u001b[34m[2023-01-12:19:59:34:INFO] Sniff delimiter as ','\u001b[0m\n",
      "\u001b[34m[2023-01-12:19:59:34:INFO] Determined delimiter of CSV input is ','\u001b[0m\n",
      "\u001b[35m[2023-01-12:19:59:33:INFO] Sniff delimiter as ','\u001b[0m\n",
      "\u001b[35m[2023-01-12:19:59:33:INFO] Determined delimiter of CSV input is ','\u001b[0m\n",
      "\u001b[35m[2023-01-12:19:59:34:INFO] Sniff delimiter as ','\u001b[0m\n",
      "\u001b[35m[2023-01-12:19:59:34:INFO] Determined delimiter of CSV input is ','\u001b[0m\n",
      "\u001b[35m[2023-01-12:19:59:34:INFO] Sniff delimiter as ','\u001b[0m\n",
      "\u001b[35m[2023-01-12:19:59:34:INFO] Determined delimiter of CSV input is ','\u001b[0m\n",
      "\u001b[35m[2023-01-12:19:59:34:INFO] Sniff delimiter as ','\u001b[0m\n",
      "\u001b[35m[2023-01-12:19:59:34:INFO] Determined delimiter of CSV input is ','\u001b[0m\n"
     ]
    }
   ],
   "source": [
    "xgb_transformer.wait()"
   ]
  },
  {
   "cell_type": "markdown",
   "metadata": {},
   "source": [
    "Now the transform job has executed and the result, the estimated sentiment of each review, has been saved on S3. Since we would rather work on this file locally we can perform a bit of notebook magic to copy the file to the `data_dir`."
   ]
  },
  {
   "cell_type": "code",
   "execution_count": 77,
   "metadata": {
    "tags": []
   },
   "outputs": [
    {
     "name": "stdout",
     "output_type": "stream",
     "text": [
      "download: s3://sagemaker-us-west-2-495022547570/xgboost-2023-01-12-19-53-28-001/test.csv.out to data/xgboost/test.csv.out\n"
     ]
    }
   ],
   "source": [
    "!aws s3 cp --recursive $xgb_transformer.output_path $data_dir"
   ]
  },
  {
   "cell_type": "markdown",
   "metadata": {},
   "source": [
    "The last step is now to read in the output from our model, convert the output to something a little more usable, in this case we want the sentiment to be either `1` (positive) or `0` (negative), and then compare to the ground truth labels."
   ]
  },
  {
   "cell_type": "code",
   "execution_count": 78,
   "metadata": {
    "tags": []
   },
   "outputs": [],
   "source": [
    "predictions = pd.read_csv(os.path.join(data_dir, 'test.csv.out'), header=None)\n",
    "predictions = [round(num) for num in predictions.squeeze().values]"
   ]
  },
  {
   "cell_type": "code",
   "execution_count": 79,
   "metadata": {
    "tags": []
   },
   "outputs": [
    {
     "data": {
      "text/plain": [
       "0.86452"
      ]
     },
     "execution_count": 79,
     "metadata": {},
     "output_type": "execute_result"
    }
   ],
   "source": [
    "from sklearn.metrics import accuracy_score\n",
    "accuracy_score(test_y, predictions)"
   ]
  },
  {
   "cell_type": "markdown",
   "metadata": {},
   "source": [
    "## Optional: Clean up\n"
   ]
  },
  {
   "cell_type": "code",
   "execution_count": null,
   "metadata": {},
   "outputs": [],
   "source": [
    "# First we will remove all of the files contained in the data_dir directory\n",
    "!rm $data_dir/*\n",
    "\n",
    "# And then we delete the directory itself\n",
    "!rmdir $data_dir\n",
    "\n",
    "# Similarly we will remove the files in the cache_dir directory and the directory itself\n",
    "!rm $cache_dir/*\n",
    "!rmdir $cache_dir"
   ]
  }
 ],
 "metadata": {
  "kernelspec": {
   "display_name": "Python 3 (Data Science)",
   "language": "python",
   "name": "python3__SAGEMAKER_INTERNAL__arn:aws:sagemaker:us-west-2:236514542706:image/datascience-1.0"
  },
  "language_info": {
   "codemirror_mode": {
    "name": "ipython",
    "version": 3
   },
   "file_extension": ".py",
   "mimetype": "text/x-python",
   "name": "python",
   "nbconvert_exporter": "python",
   "pygments_lexer": "ipython3",
   "version": "3.7.10"
  }
 },
 "nbformat": 4,
 "nbformat_minor": 4
}
