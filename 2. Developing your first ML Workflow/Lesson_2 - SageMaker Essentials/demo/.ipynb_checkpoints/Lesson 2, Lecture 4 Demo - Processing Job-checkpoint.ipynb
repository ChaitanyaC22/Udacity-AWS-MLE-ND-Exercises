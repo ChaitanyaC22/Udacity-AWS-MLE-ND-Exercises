{
 "cells": [
  {
   "cell_type": "markdown",
   "id": "c8f391ef",
   "metadata": {},
   "source": [
    "# UDACITY: Processing Job Demo"
   ]
  },
  {
   "cell_type": "code",
   "execution_count": 2,
   "id": "ff2295f7",
   "metadata": {
    "tags": []
   },
   "outputs": [
    {
     "name": "stdout",
     "output_type": "stream",
     "text": [
      "Writing xgboost_process_script.py\n"
     ]
    }
   ],
   "source": [
    "%%writefile xgboost_process_script.py\n",
    "# Write the the following code within the cell as python script named 'xgboost_process_script.py' (Entry-point)\n",
    "\n",
    "# Execute this cell first to write this script to your local directory. \n",
    "\n",
    "import pandas\n",
    "\n",
    "# This method filters out the column at index 1, which is the crime data. \n",
    "\n",
    "def filter_crime_data(input_data_path):\n",
    "    with open(input_data_path, 'r') as f:\n",
    "        df = pandas.read_csv(f)\n",
    "    df.drop(df.columns[[1]], axis=1)\n",
    "    return df\n",
    "\n",
    "# The main method takes in data at '/opt/ml/processing/input/data/train.csv' \n",
    "# and outputs it as a csv to '/opt/ml/processing/output/data_processed'\n",
    "\n",
    "if __name__ == \"__main__\":\n",
    "    filtered_data = filter_crime_data('/opt/ml/processing/input/data/train.csv')\n",
    "    filtered_data.to_csv('/opt/ml/processing/output/data_processed')      # Stores the data back in S3 bucket\n",
    "\n"
   ]
  },
  {
   "cell_type": "code",
   "execution_count": 3,
   "id": "08e4c2ca",
   "metadata": {
    "tags": []
   },
   "outputs": [
    {
     "name": "stdout",
     "output_type": "stream",
     "text": [
      "\n",
      "Job Name:  sagemaker-scikit-learn-2023-01-05-06-22-56-594\n",
      "Inputs:  [{'InputName': 'input-1', 'AppManaged': False, 'S3Input': {'S3Uri': 's3://sagemaker-studio-774397897175-mcs3venir6c/Boston-Housing-XGBoost/train.csv', 'LocalPath': '/opt/ml/processing/input/data/', 'S3DataType': 'S3Prefix', 'S3InputMode': 'File', 'S3DataDistributionType': 'FullyReplicated', 'S3CompressionType': 'None'}}, {'InputName': 'code', 'AppManaged': False, 'S3Input': {'S3Uri': 's3://sagemaker-us-east-1-774397897175/sagemaker-scikit-learn-2023-01-05-06-22-56-594/input/code/xgboost_process_script.py', 'LocalPath': '/opt/ml/processing/input/code', 'S3DataType': 'S3Prefix', 'S3InputMode': 'File', 'S3DataDistributionType': 'FullyReplicated', 'S3CompressionType': 'None'}}]\n",
      "Outputs:  [{'OutputName': 'output-1', 'AppManaged': False, 'S3Output': {'S3Uri': 's3://sagemaker-us-east-1-774397897175/sagemaker-scikit-learn-2023-01-05-06-22-56-594/output/output-1', 'LocalPath': '/opt/ml/processing/output', 'S3UploadMode': 'EndOfJob'}}]\n",
      "..............................\n",
      ".."
     ]
    }
   ],
   "source": [
    "import boto3\n",
    "\n",
    "from sagemaker import get_execution_role\n",
    "from sagemaker.sklearn.processing import SKLearnProcessor\n",
    "from sagemaker.processing import ProcessingInput, ProcessingOutput\n",
    "\n",
    "role = get_execution_role()\n",
    "\n",
    "sklearn_processor = SKLearnProcessor(framework_version='0.20.0',    # image_uri version (in this case, Scikit learn)\n",
    "                                     role=role,\n",
    "                                     instance_type='ml.m5.large',   # Desired compute resources\n",
    "                                     instance_count=1)\n",
    "\n",
    "\n",
    "# You will need to replace the 'source' code with the location of the dataset you want to process. \n",
    "\n",
    "sklearn_processor.run(code='xgboost_process_script.py',  # Entry-point (python script to be run at start)\n",
    "                        inputs=[ProcessingInput(       # Inputs: S3 path and local path\n",
    "                        source='s3://sagemaker-studio-774397897175-mcs3venir6c/Boston-Housing-XGBoost/train.csv',\n",
    "                        destination='/opt/ml/processing/input/data/')],\n",
    "                      outputs=[ProcessingOutput(source='/opt/ml/processing/output')] # Outputs: local path\n",
    "                     )\n"
   ]
  }
 ],
 "metadata": {
  "instance_type": "ml.t3.medium",
  "kernelspec": {
   "display_name": "Python 3 (Data Science)",
   "language": "python",
   "name": "python3__SAGEMAKER_INTERNAL__arn:aws:sagemaker:us-east-1:081325390199:image/datascience-1.0"
  },
  "language_info": {
   "codemirror_mode": {
    "name": "ipython",
    "version": 3
   },
   "file_extension": ".py",
   "mimetype": "text/x-python",
   "name": "python",
   "nbconvert_exporter": "python",
   "pygments_lexer": "ipython3",
   "version": "3.7.10"
  }
 },
 "nbformat": 4,
 "nbformat_minor": 5
}
